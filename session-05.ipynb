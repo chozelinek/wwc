{
 "cells": [
  {
   "cell_type": "markdown",
   "metadata": {},
   "source": [
    "# Session 5: XML\n",
    "\n",
    "In this session we provide a quick introduction to **XML**. We then engage with common uses of `lxml` to read, manipulate and write XML data with Python.\n",
    "\n",
    "## XML and HTML\n",
    "\n",
    "Both **XML** and **HTML** are markup languages. Markup languages are systems to annotate documents in a way that the annotation is syntactically distinguishable from the content. What does it mean? Well, we normally want to keep text and metatextual information separated. Metatextual information can be metadata, linguistic annotation, format, content description...\n",
    "\n",
    "Two well known markup formats are **XML** and **HTML**. They are very similar in fact. Both are instances of SGML and both follow the DOM specification. However, **HTML** is a markup format made up of a pre-defined closed set of tags, with a specification that is used by web browsers to present web content. Whereas, **XML** is not restricted to a particular set of elements and/or purpose. Users can define the structure of the document, its elements, attributes, etc.\n",
    "\n",
    "Because most of what we will learn for XML also applies to HTML (we can regard HTML as a specification of the more general XML), and there are plenty of resources in the web to learn HTML, we will focus on XML.\n",
    "\n",
    "### Documents as trees\n",
    "\n",
    "DOM stands for *Document Object Model*. This is the specification of how a **HTML** and **XML** documents has to be structured, as well as how the file is manipulated to create, edit or remove contents.\n",
    "\n",
    "We can think of DOM as a tree structure:"
   ]
  },
  {
   "cell_type": "code",
   "execution_count": null,
   "metadata": {
    "attributes": {
     "classes": [
      "xml"
     ],
     "id": ""
    }
   },
   "outputs": [],
   "source": [
    "<?xml version=\"1.0\" encoding=\"UTF-8\"?>\n",
    "<TextCorpus lang=\"de\">\n",
    "    <text>Karin fliegt nach New York. Sie will dort Urlaub machen.</text>\n",
    "    <tokens>\n",
    "        <token ID=\"t_0\">Karin</token>\n",
    "        <token ID=\"t_1\">fliegt</token>\n",
    "        <token ID=\"t_2\">nach</token>\n",
    "        <token ID=\"t_3\">New</token>\n",
    "        <token ID=\"t_4\">York</token>\n",
    "        <token ID=\"t_5\">.</token>\n",
    "        <token ID=\"t_6\">Sie</token>\n",
    "        <token ID=\"t_7\">will</token>\n",
    "        <token ID=\"t_8\">dort</token>\n",
    "        <token ID=\"t_9\">Urlaub</token>\n",
    "        <token ID=\"t_10\">machen</token>\n",
    "        <token ID=\"t_11\">.</token>\n",
    "    </tokens>\n",
    "</TextCorpus>"
   ]
  },
  {
   "cell_type": "markdown",
   "metadata": {},
   "source": [
    "### XML\n",
    "\n",
    "**XML** stands for E**X**tensible **M**arkup **L**anguage. This language was designed to store and transport data. And it was designed to be both human- and machine-readable. Unlike HTML the structure of the document, the elements, their attributes, and the content are not pre-defined. That provides a very flexible framework.\n",
    "\n",
    "> XML is a generalized way of describing hierarchical structured data. An XML document contains one or more **elements**, which are delimited by **start** and **end** **tags**."
   ]
  },
  {
   "cell_type": "code",
   "execution_count": null,
   "metadata": {
    "attributes": {
     "classes": [
      "xml"
     ],
     "id": ""
    }
   },
   "outputs": [],
   "source": [
    "<s>This is a sentence.</s>"
   ]
  },
  {
   "cell_type": "markdown",
   "metadata": {},
   "source": [
    "> Elements can be nested to any depth. An element inside another one is said to be a subelement or **child**. The first element in every XML document is called the **root** element. An XML document can only have one root element."
   ]
  },
  {
   "cell_type": "code",
   "execution_count": null,
   "metadata": {
    "attributes": {
     "classes": [
      "xml"
     ],
     "id": ""
    }
   },
   "outputs": [],
   "source": [
    "<s>\n",
    "    <token>This</token>\n",
    "    <token>is</token>\n",
    "    <token>a</token>\n",
    "    <token>sentence</token>\n",
    "    <token>.</token>\n",
    "</s>"
   ]
  },
  {
   "cell_type": "markdown",
   "metadata": {},
   "source": [
    "> Elements can have **attributes**, which are name-value pairs. Attributes are listed within the start tag of an element and separated by whitespace. Attribute names can not be repeated within an element. Attribute values must be quoted. You may use either single or double quotes."
   ]
  },
  {
   "cell_type": "code",
   "execution_count": null,
   "metadata": {
    "attributes": {
     "classes": [
      "xml"
     ],
     "id": ""
    }
   },
   "outputs": [],
   "source": [
    "<s id=\"s_0\">\n",
    "    <token pos1=\"DT\" pos2=\"DET\">This</token>\n",
    "    <token pos1=\"VBZ\" pos2=\"VERB\">is</token>\n",
    "    <token pos1='DT' pos2='DET'>a</token>\n",
    "    <token pos1='NN' pos2='NOUN'>sentence</token>\n",
    "    <token pos1='.' pos2='PUNCT'>.</token>\n",
    "</s>"
   ]
  },
  {
   "cell_type": "markdown",
   "metadata": {},
   "source": [
    "> If an element has more than one attribute, the ordering of the attributes is not significant. Element’s attributes form an unordered set of keys and values, like a Python dictionary. There is no limit to the number of attributes you can define on each element."
   ]
  },
  {
   "cell_type": "code",
   "execution_count": null,
   "metadata": {
    "attributes": {
     "classes": [
      "xml"
     ],
     "id": ""
    }
   },
   "outputs": [],
   "source": [
    "<s id=\"s_0\">\n",
    "    <token pos1=\"DT\" pos2=\"DET\">This</token>\n",
    "    <token pos2=\"VERB\" pos1=\"VBZ\">is</token>\n",
    "    <token pos1=\"DT\" pos2=\"DET\">a</token>\n",
    "    <token pos2=\"NOUN\" pos1=\"NN\">sentence</token>\n",
    "    <token pos1=\".\" pos2=\"PUNCT\">.</token>\n",
    "</s>"
   ]
  },
  {
   "cell_type": "markdown",
   "metadata": {},
   "source": [
    "> Elements can have **text content**. Elements that contain no text and no children are **empty**. Elements that contain text and children elements are said to contain **mixed content**.\n",
    "\n",
    "This is an element with text content:"
   ]
  },
  {
   "cell_type": "code",
   "execution_count": null,
   "metadata": {
    "attributes": {
     "classes": [
      "xml"
     ],
     "id": ""
    }
   },
   "outputs": [],
   "source": [
    "<s>This is a sentence.</s>"
   ]
  },
  {
   "cell_type": "markdown",
   "metadata": {},
   "source": [
    "This is an empty element:"
   ]
  },
  {
   "cell_type": "code",
   "execution_count": null,
   "metadata": {
    "attributes": {
     "classes": [
      "xml"
     ],
     "id": ""
    }
   },
   "outputs": [],
   "source": [
    "<comment type=\"gesture\"/>"
   ]
  },
  {
   "cell_type": "markdown",
   "metadata": {},
   "source": [
    "This is an element with mixed content:"
   ]
  },
  {
   "cell_type": "code",
   "execution_count": null,
   "metadata": {
    "attributes": {
     "classes": [
      "xml"
     ],
     "id": ""
    }
   },
   "outputs": [],
   "source": [
    "<s>This is a sentence with <italics>mixed</italics> content.</s>"
   ]
  },
  {
   "cell_type": "markdown",
   "metadata": {},
   "source": [
    "> Finally, XML documents can contain character encoding information on the first line, before the root element."
   ]
  },
  {
   "cell_type": "code",
   "execution_count": null,
   "metadata": {
    "attributes": {
     "classes": [
      "xml"
     ],
     "id": ""
    }
   },
   "outputs": [],
   "source": [
    "<?xml version=\"1.0\" encoding=\"UTF-8\"?>\n",
    "<s>\n",
    "    <token>This</token>\n",
    "    <token>is</token>\n",
    "    <token>a</token>\n",
    "    <token>sentence</token>\n",
    "    <token>.</token>\n",
    "</s>"
   ]
  },
  {
   "cell_type": "markdown",
   "metadata": {},
   "source": [
    "(Mark Pilgrim. *Dive Into Python 3*. <http://www.diveintopython3.net/xml.html>)\n",
    "\n",
    "### Well-formed and valid\n",
    "\n",
    "Web browsers are quite lenient regarding not well-formed and invalid **HTML**. They will try to figure out how to render a page, even if there are errors. However, errors in **XML** documents will stop your **XML** applications. **XML** parsers will choke, **XML** errors are not allowed.\n",
    "\n",
    "Therefore, whenever you work with markup languages, try to check that everything is alright to be sure that your material is error free. Follow this piece of advice and you will avoid lot of headache in the future.\n",
    "\n",
    "#### Well-formed documents\n",
    "\n",
    "A document is well-formed if it is compliant with some minimal requirements:\n",
    "\n",
    "- the document contains a document type declaration\n",
    "- a single element, known as the root element, contains all the other elements in the document.\n",
    "- all elements are well formed (if they are):\n",
    "    - opened and subsequently closed, or\n",
    "    - if empty, properly terminated, and\n",
    "    - properly nested so that they do not overlap\n",
    "- `<`, `>`, `\"`, `'`, and `&` are only used as markup (either part of a tag or a entity). If they are to be used in the document as character, entities should be used instead: `&lt;`, `&gt;`, `&quot;`, `&apos;`, `&amp;`.\n",
    "- there are rules about the characters that can be used in element names and elsewhere\n",
    "- tags are case-sensitive\n",
    "- attribute values have to be quoted\n",
    "- it contains only properly encoded legal Unicode characters\n",
    "\n",
    "<!-- look for an online validator, HTML is also OK for this purpose -->\n",
    "\n",
    "#### Valid documents\n",
    "\n",
    "**HTML** documents have to conform to a particular specification where only a closed set of elements and attributes with particular contents and data types are allowed. Try to use anything else and you will get an error.\n",
    "\n",
    "However, the structure and contents of **XML** documents can and have to be defined. The rules describing those aspects are defined in a DTD (Document Type Definition) or **XML** schema. A document is valid if:\n",
    "\n",
    "- it is well-formed, and\n",
    "- it observes the rules dictated by its DTD or **XML** schema.\n",
    "\n",
    "If used properly, **XML** schemas can help you to detect annotation inconsistencies and errors (specially helpful if you are working with data created manually by humans).\n",
    "\n",
    "There are different ways to define documents out there. My favorite schema language is **Relax NG compact**: it is quite easy to understand, write, and read. It is much more powerful than DTDs, but at the same time easier than other **XML** schema languages.\n",
    "\n",
    "<!-- show a DTD example and a Relax NG compact schema -->\n",
    "\n",
    "Learning the basics of writing a DTD or a schema would require a dedicated session.\n",
    "\n",
    "#### Validating XML\n",
    "\n",
    "Some **XML** editors allow the validation of **XML** files using a DTD or **XML** schema.\n",
    "\n",
    "<!-- provide the a XML file with its rnc -->\n",
    "\n",
    "<!-- just work with the TCF Validator, to illustrate the point will be enough https://weblicht.sfs.uni-tuebingen.de/tcf-validator/ -->\n",
    "\n",
    "If you have many files to validate, you probably want to use a command line tool like `xmllint`. It is included in [`libxml2`](<http://www.xmlsoft.org/downloads.html>). A library that you would need anyway, if you want to work with `lxml` package locally.\n",
    "\n",
    "If you work with Relax NG Schema compact, you can use [`jing`](<https://github.com/relaxng/jing-trang>). There is also a python wrapper for jing-trang tools <https://pypi.python.org/pypi/jingtrang>.\n",
    "\n",
    "## Python and XML/HTML\n",
    "\n",
    "<!-- illustrate why trying to 'parse' literally or with regexp does not work: indentation, context, attribute order, attribute ambiguity... -->\n",
    "\n",
    "### Packages\n",
    "\n",
    "Python includes different markup processing tools in its standard library.\n",
    "\n",
    "<https://docs.python.org/3.5/library/markup.html>\n",
    "\n",
    "- `html`, an **HTML** and **XHTML** parser.\n",
    "- `xml.etree.ElementTree`, a simple and light **XML** parser, it works pretty well, it is fast and it has a pythonic API.\n",
    "- `xml.dom`, a [DOM](https://en.wikipedia.org/wiki/Document_Object_Model) **XML** parser. The DOM operates on the documents as a whole.\n",
    "- `xml.sax`, a [SAX](https://en.wikipedia.org/wiki/Simple_API_for_XML) **XML** parser. The SAX parser operates on each piece of the **XML** document sequentially.\n",
    "- `xml.parsers.expat`, the Expat parser binding.\n",
    "\n",
    "There are also a few packages not included in the standard library which are very useful:\n",
    "\n",
    "- [`lxml`](http://lxml.de), which uses `libxml2` and `libxslt` libraries. It parses **XML** and **HTML** and it is very fast. It follows the ElementTree API. Moreover, it adds interesting features like the integration of `XPath`, `XSLT` and much more.\n",
    "- [`html5lib`](https://github.com/html5lib/html5lib-python), an **HTML** parser that creates valid **HTML5**, and parses pages like a browser does (extremely lenient).\n",
    "- [`beautifulsoup4`](http://www.crummy.com/software/BeautifulSoup), a Python library for pulling data out of **HTML** and **XML** files. It provides idiomatic ways of navigating, searching and modifying the parse tree. You can use different parsers under the hood (like the excellent `lxml` and `html5lib`). You just learn one API and you use it for all the parsers.\n",
    "\n",
    "### Setting up the environment\n",
    "\n",
    "We are going to use `lxml`. These packages are not part of python's standard library. We need to install them by using `pip`, the python package manager.\n",
    "\n",
    "Go to the Shell Terminals in the cloud.\n",
    "\n",
    "Install dependencies `libxml2` and `libxslt`:"
   ]
  },
  {
   "cell_type": "code",
   "execution_count": null,
   "metadata": {
    "attributes": {
     "classes": [
      "shell"
     ],
     "id": ""
    }
   },
   "outputs": [],
   "source": [
    "sudo rpm --rebuilddb && sudo yum install -y libxml2-devel libxslt-devel"
   ]
  },
  {
   "cell_type": "markdown",
   "metadata": {},
   "source": [
    "Then, install `lxml` with `pip`:"
   ]
  },
  {
   "cell_type": "code",
   "execution_count": null,
   "metadata": {
    "attributes": {
     "classes": [
      "shell"
     ],
     "id": ""
    }
   },
   "outputs": [],
   "source": [
    "pip install lxml"
   ]
  },
  {
   "cell_type": "markdown",
   "metadata": {},
   "source": [
    "`pip` is the python package manager, you can extend your python library with third party packages. `pip` comes preinstalled in Python 3.4 and later. Learn more about `pip` here: <https://pip.pypa.io/en/stable/>\n",
    "\n",
    "> If you are working locally, the procedure to install `lxml` will be different. Check [Installing lxml](http://lxml.de/installation.html) for more information.\n",
    "\n",
    "## Working with XML\n",
    "\n",
    "Let's get down to work!\n",
    "\n",
    "In this tutorial we will learn how to:\n",
    "\n",
    "- create a file from scratch\n",
    "- read XML files and who to navigate through the file\n",
    "- how to manipulate XML\n",
    "- how to extract information from XML files\n",
    "\n",
    "### Creating an XML file\n",
    "\n",
    "We will put into practice some of the things we have seen so far, while we learn how to create an XML file from scratch.\n",
    "\n",
    "For illustrative purposes, our aim is to create an XML file representing a text.\n",
    "\n",
    "First of all we need to import the package `lxml`:"
   ]
  },
  {
   "cell_type": "code",
   "execution_count": null,
   "metadata": {},
   "outputs": [],
   "source": [
    "from lxml import etree"
   ]
  },
  {
   "cell_type": "markdown",
   "metadata": {},
   "source": [
    "Then we create our first element. This will become our root element. We will name it `text`. For that purpose we use the class 'Element'."
   ]
  },
  {
   "cell_type": "code",
   "execution_count": null,
   "metadata": {},
   "outputs": [],
   "source": [
    "\n",
    "\n",
    "\n"
   ]
  },
  {
   "cell_type": "markdown",
   "metadata": {},
   "source": [
    "Next we want to create an element for our first sentence. This `s` element has to be a child of our `root` element."
   ]
  },
  {
   "cell_type": "code",
   "execution_count": null,
   "metadata": {},
   "outputs": [],
   "source": [
    "\n",
    "\n",
    "\n",
    "\n"
   ]
  },
  {
   "cell_type": "markdown",
   "metadata": {},
   "source": [
    "Elements behave like Python lists (most of the time).\n",
    "\n",
    "You can uses numeric indexes to access particular elements:"
   ]
  },
  {
   "cell_type": "code",
   "execution_count": null,
   "metadata": {},
   "outputs": [],
   "source": [
    "\n",
    "\n"
   ]
  },
  {
   "cell_type": "markdown",
   "metadata": {},
   "source": [
    "You can know how many children an element has with the function `len`:"
   ]
  },
  {
   "cell_type": "code",
   "execution_count": null,
   "metadata": {},
   "outputs": [],
   "source": [
    "\n",
    "\n",
    "\n",
    "\n"
   ]
  },
  {
   "cell_type": "markdown",
   "metadata": {},
   "source": [
    "You can append children to an element:"
   ]
  },
  {
   "cell_type": "code",
   "execution_count": null,
   "metadata": {},
   "outputs": [],
   "source": [
    "\n",
    "\n",
    "\n",
    "\n"
   ]
  },
  {
   "cell_type": "markdown",
   "metadata": {},
   "source": [
    "You can loop through the children:"
   ]
  },
  {
   "cell_type": "code",
   "execution_count": null,
   "metadata": {},
   "outputs": [],
   "source": [
    "\n",
    "\n",
    "\n"
   ]
  },
  {
   "cell_type": "markdown",
   "metadata": {},
   "source": [
    "You can also get the parent of an element:"
   ]
  },
  {
   "cell_type": "code",
   "execution_count": null,
   "metadata": {},
   "outputs": [],
   "source": [
    "\n",
    "\n",
    "\n"
   ]
  },
  {
   "cell_type": "markdown",
   "metadata": {},
   "source": [
    "You can also get the next or previous sibling:"
   ]
  },
  {
   "cell_type": "code",
   "execution_count": null,
   "metadata": {},
   "outputs": [],
   "source": [
    "\n",
    "\n",
    "\n",
    "\n"
   ]
  },
  {
   "cell_type": "markdown",
   "metadata": {},
   "source": [
    "You can also remove a children by its index:"
   ]
  },
  {
   "cell_type": "code",
   "execution_count": null,
   "metadata": {},
   "outputs": [],
   "source": [
    "\n",
    "\n",
    "\n",
    "\n"
   ]
  },
  {
   "cell_type": "markdown",
   "metadata": {},
   "source": [
    "Elements can have attributes, the value of an attribute has to be always a string. Attributes behave like dictionaries:"
   ]
  },
  {
   "cell_type": "code",
   "execution_count": null,
   "metadata": {},
   "outputs": [],
   "source": [
    "\n",
    "\n",
    "\n",
    "\n",
    "\n"
   ]
  },
  {
   "cell_type": "markdown",
   "metadata": {},
   "source": [
    "Elements can contain text:"
   ]
  },
  {
   "cell_type": "code",
   "execution_count": null,
   "metadata": {},
   "outputs": [],
   "source": [
    "\n",
    "\n",
    "\n",
    "\n",
    "\n"
   ]
  },
  {
   "cell_type": "markdown",
   "metadata": {},
   "source": [
    "Elements can contain mixed content. Mixed content is not that easy to process. But if you work with (X)HTML or XML with inline annotation (as opossed to stand of annotation) you will have to cope with it. We don't have time for this, but you can learn more about it in the official tutorial. <http://lxml.de/tutorial.html#elements-contain-text>\n",
    "\n",
    "Now let's create a simple XML file programmatically. That is, instead of creating all elements manually, we are going to use python to generate *automagically* the following XML file:"
   ]
  },
  {
   "cell_type": "code",
   "execution_count": null,
   "metadata": {
    "attributes": {
     "classes": [
      "xml"
     ],
     "id": ""
    }
   },
   "outputs": [],
   "source": [
    "<text ID=\"text_0\">\n",
    "    <s ID=\"s_0\">\n",
    "        <token ID=\"t_0\" pos=\"NE\">Karin</token>\n",
    "        <token ID=\"t_1\" pos=\"VVFIN\">fliegt</token>\n",
    "        <token ID=\"t_2\" pos=\"APPR\">nach</token>\n",
    "        <token ID=\"t_3\" pos=\"NE\">New</token>\n",
    "        <token ID=\"t_4\" pos=\"NE\">York</token>\n",
    "        <token ID=\"t_5\" pos=\"$.\">.</token>\n",
    "    </s>\n",
    "</text>"
   ]
  },
  {
   "cell_type": "markdown",
   "metadata": {},
   "source": [
    "We only have the following sentence in the form of a list made of tuples, each tuple contains two strings: a word, a PoS tag."
   ]
  },
  {
   "cell_type": "code",
   "execution_count": null,
   "metadata": {},
   "outputs": [],
   "source": [
    "tokens = [(\"Karin\",\"NE\"),(\"fliegt\",\"VVFIN\"),(\"nach\",\"APPR\"),(\"New\",\"NE\"),(\"York\",\"NE\"),(\".\",\"$.\")]"
   ]
  },
  {
   "cell_type": "markdown",
   "metadata": {},
   "source": [
    "But a text is normally done of more than one sentence, can you write a loop to process so many sentences as needed:"
   ]
  },
  {
   "cell_type": "code",
   "execution_count": null,
   "metadata": {},
   "outputs": [],
   "source": [
    "sentences = [[(\"Karin\",\"NE\"),(\"fliegt\",\"VVFIN\"),(\"nach\",\"APPR\"),(\"New\",\"NE\"),(\"York\",\"NE\"),(\".\",\"$.\")],[(\"Sie\",\"PPER\"),(\"will\",\"VMFIN\"),(\"dort\",\"ADV\"),(\"Urlaub\",\"NN\"),(\"machen\",\"VVINF\"),(\".\",\"$.\")]]\n",
    "\n",
    "\n",
    "\n"
   ]
  },
  {
   "cell_type": "markdown",
   "metadata": {},
   "source": [
    "Great! We made it! What we probably want to do now is to save the tree as an XML file. This is called serialisation. We need an `ElementTree` object. And then we can use the function `write` to save the tree as a XML file."
   ]
  },
  {
   "cell_type": "code",
   "execution_count": null,
   "metadata": {},
   "outputs": [],
   "source": [
    "\n",
    "\n",
    "\n",
    "\n",
    "\n",
    "\n"
   ]
  },
  {
   "cell_type": "markdown",
   "metadata": {},
   "source": [
    "### Read XML from a string\n",
    "\n",
    "<!-- @instructor: tweak the XML input to show different errors, and how the errors break the script. Examples:\n",
    "\n",
    "- add a second root element\n",
    "- remove a closing tag\n",
    "- change an opening token tag to taken\n",
    "- remove the quotation marks of an attribute\n",
    "- write an element hows tag starts by an invalid character\n",
    "- insert a sentence element wrong\n",
    "- insert sentence elements right\n",
    "- insert an ampersand\n",
    "- use the ampersand entity\n",
    "- put opening tag in upper case, and leave closing tag in lowercase\n",
    "-->"
   ]
  },
  {
   "cell_type": "code",
   "execution_count": null,
   "metadata": {},
   "outputs": [],
   "source": [
    "xmlsource = b'''<?xml version=\"1.0\" encoding=\"UTF-8\"?>\n",
    "<TextCorpus lang=\"de\">\n",
    "    <text>Karin fliegt nach New York. Sie will dort Urlaub machen.</text>\n",
    "    <tokens>\n",
    "        <token ID=\"t_0\">Karin</token>\n",
    "        <token ID=\"t_1\">fliegt</token>\n",
    "        <token ID=\"t_2\">nach</token>\n",
    "        <token ID=\"t_3\">New</token>\n",
    "        <token ID=\"t_4\">York</token>\n",
    "        <token ID=\"t_5\">.</token>\n",
    "        <token ID=\"t_6\">Sie</token>\n",
    "        <token ID=\"t_7\">will</token>\n",
    "        <token ID=\"t_8\">dort</token>\n",
    "        <token ID=\"t_9\">Urlaub</token>\n",
    "        <token ID=\"t_10\">machen</token>\n",
    "        <token ID=\"t_11\">.</token>\n",
    "    </tokens>\n",
    "</TextCorpus>'''"
   ]
  },
  {
   "cell_type": "markdown",
   "metadata": {},
   "source": [
    "### Read XML from a file\n",
    "\n",
    "We can also read XML from a file:"
   ]
  },
  {
   "cell_type": "code",
   "execution_count": null,
   "metadata": {},
   "outputs": [],
   "source": [
    "\n",
    "\n",
    "\n",
    "\n",
    "\n"
   ]
  },
  {
   "cell_type": "markdown",
   "metadata": {},
   "source": [
    "### Common operations\n",
    "\n",
    "#### Finding things\n",
    "\n",
    "Find all elements with a particular tag:"
   ]
  },
  {
   "cell_type": "code",
   "execution_count": null,
   "metadata": {},
   "outputs": [],
   "source": [
    "\n",
    "\n",
    "\n"
   ]
  },
  {
   "cell_type": "markdown",
   "metadata": {},
   "source": [
    "Find all elements with a particular attribute:"
   ]
  },
  {
   "cell_type": "code",
   "execution_count": null,
   "metadata": {},
   "outputs": [],
   "source": [
    "\n",
    "\n"
   ]
  },
  {
   "cell_type": "markdown",
   "metadata": {},
   "source": [
    "Find all elements whose PoS attribute value is NE:"
   ]
  },
  {
   "cell_type": "code",
   "execution_count": null,
   "metadata": {},
   "outputs": [],
   "source": [
    "\n",
    "\n",
    "\n"
   ]
  },
  {
   "cell_type": "markdown",
   "metadata": {},
   "source": [
    "We can use also XPath syntax if you are more familiar with that:"
   ]
  },
  {
   "cell_type": "code",
   "execution_count": null,
   "metadata": {},
   "outputs": [],
   "source": [
    "\n",
    "\n",
    "\n",
    "\n"
   ]
  },
  {
   "cell_type": "markdown",
   "metadata": {},
   "source": [
    "### Extracting Info\n",
    "\n",
    "### Challenges\n",
    "\n",
    "Find all nouns, print the POS tag"
   ]
  },
  {
   "cell_type": "code",
   "execution_count": null,
   "metadata": {},
   "outputs": [],
   "source": [
    "\n"
   ]
  },
  {
   "cell_type": "markdown",
   "metadata": {},
   "source": [
    "Find all nouns, retrieve word forms, print the text of the token"
   ]
  },
  {
   "cell_type": "code",
   "execution_count": null,
   "metadata": {},
   "outputs": [],
   "source": [
    "\n",
    "\n"
   ]
  },
  {
   "cell_type": "markdown",
   "metadata": {},
   "source": [
    "Print one token per line, first element of the line should be the word form, and second part of the line (tab separated) should be the PoS information."
   ]
  },
  {
   "cell_type": "code",
   "execution_count": null,
   "metadata": {},
   "outputs": [],
   "source": [
    "\n",
    "\n"
   ]
  },
  {
   "cell_type": "markdown",
   "metadata": {},
   "source": [
    "### Manipulating XML\n",
    "\n",
    "Upper case all tokens"
   ]
  },
  {
   "cell_type": "code",
   "execution_count": null,
   "metadata": {},
   "outputs": [],
   "source": [
    "\n",
    "\n"
   ]
  },
  {
   "cell_type": "markdown",
   "metadata": {},
   "source": [
    "Rename pos attribute as partOfSpeech"
   ]
  },
  {
   "cell_type": "code",
   "execution_count": null,
   "metadata": {},
   "outputs": [],
   "source": [
    "\n",
    "\n"
   ]
  },
  {
   "cell_type": "markdown",
   "metadata": {},
   "source": [
    "### Challenge\n",
    "\n",
    "- lower case all tokens\n",
    "- change the `tag` 'ID' value, by changing the prefix. Instead of `pt` now should be `postag`.\n",
    "- add `length` in characters to `token`\n",
    "- add `length` in tokens to `sentence`\n",
    "- for each `token` add an attribute called `pos` which should be its value from `tag`.\n",
    "- renumber tokens, instead of starting at `0` they should start at `1`\n",
    "- remove elements\n",
    "- strip tags\n",
    "\n",
    "\n",
    "\n",
    "## Summary\n",
    "\n",
    "## Learn more\n",
    "\n",
    "After having learnt a bit of **XML** and `lxml`, you are ready to learn on your own about **HTML** and web scrapping.\n",
    "\n",
    "### HTML\n",
    "\n",
    "Learn more about HTML:\n",
    "\n",
    "- **HTML** article in the Wikipedia <https://en.wikipedia.org/wiki/HTML>\n",
    "- The Missing Link: An Introduction to Web Development and Programming <http://pressbooks.opensuny.org/themissinglink>\n",
    "- w3schools.com **HTML**(5) Tutorial <http://www.w3schools.com/html>\n",
    "\n",
    "### Web scrapping with `beautifulsoup4`\n",
    "\n",
    "- <http://web.stanford.edu/~zlotnick/TextAsData/Web_Scraping_with_Beautiful_Soup.html>\n",
    "- <http://programminghistorian.org/lessons/intro-to-beautiful-soup>\n",
    "\n",
    "### XML\n",
    "\n",
    "We have just scratched the surface today. If you want to learn more, you can start here:\n",
    "\n",
    "- **XML** article in the Wikipedia <https://en.wikipedia.org/wiki/XML>\n",
    "- w3schools.com **XML** tutorial <http://www.w3schools.com/xml/default.asp>\n",
    "\n",
    "### Relax NG compact\n",
    "\n",
    "Check this tutorial to get started: <http://www.relaxng.org/compact-tutorial-20030326.html>\n",
    "\n",
    "To validate XML files using this schema format you can use `jing`.\n",
    "\n",
    "You can also install `jing` directly without the python wrapper. In Mac OS X you can install it with [homebrew](http://brew.sh) `brew cask install jing`. In Ubuntu there is a package called jing-trang `sudo apt-get install jing-trang`. If you are working in Windows you have to compile it from source <https://github.com/relaxng/jing-trang>.\n",
    "\n",
    "To validate an XML file you use the following command:"
   ]
  },
  {
   "cell_type": "code",
   "execution_count": null,
   "metadata": {
    "attributes": {
     "classes": [
      "shell"
     ],
     "id": ""
    }
   },
   "outputs": [],
   "source": [
    "jing -c schema.rnc file.xml"
   ]
  },
  {
   "cell_type": "markdown",
   "metadata": {},
   "source": [
    "If the file is valid, you won't get any message. If there is something wrong, you will some.\n",
    "\n",
    "There is also a python wrapper. No need to install `jing` and `trang` on your own, but you need `java` to be installed in your computer.\n",
    "\n",
    "You can install it through `pip`:"
   ]
  },
  {
   "cell_type": "code",
   "execution_count": null,
   "metadata": {
    "attributes": {
     "classes": [
      "shell"
     ],
     "id": ""
    }
   },
   "outputs": [],
   "source": [
    "pip install jingtrang"
   ]
  },
  {
   "cell_type": "markdown",
   "metadata": {},
   "source": [
    "To validate an XML file against a Relax NG compact schema run the following command:"
   ]
  },
  {
   "cell_type": "code",
   "execution_count": null,
   "metadata": {
    "attributes": {
     "classes": [
      "shell"
     ],
     "id": ""
    }
   },
   "outputs": [],
   "source": [
    "pyjing -c schema.rnc file.xml"
   ]
  },
  {
   "cell_type": "markdown",
   "metadata": {},
   "source": [
    "### lxml\n",
    "\n",
    "If you want to learn more about `lxml` and make the most of XPath and XSLT you might want to check:\n",
    "\n",
    "- the tutorial at the oficial web site <http://lxml.de/tutorial.html>\n",
    "- a wonderful manual delving deeper into `lxml`'s functionality <http://infohost.nmt.edu/tcc/help/pubs/pylxml/web/index.html>\n",
    "\n",
    "Check [Installing lxml](http://lxml.de/installation.html) for more information. Be aware that `lxml` requires `libxml2` and `libxslt`. [`libxml2`](<http://www.xmlsoft.org/downloads.html>).\n",
    "\n",
    "If they are not installed in your machine, you will have to install them. In Mac OS X you can install it with [homebrew](http://brew.sh) `brew install libxml2 libxslt`. In Ubuntu just type `sudo apt-get install libxml2-dev libxslt1-dev`. If you are working in Windows you have to follow the instructions provided by [Igor Zlatkovic](https://www.zlatkovic.com/libxml.en.html).\n",
    "\n",
    "## Bibliography\n",
    "\n",
    "<!-- http://www.diveintopython3.net/xml.html -->"
   ]
  }
 ],
 "metadata": {},
 "nbformat": 4,
 "nbformat_minor": 0
}
