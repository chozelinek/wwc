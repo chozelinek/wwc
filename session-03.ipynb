{
 "cells": [
  {
   "cell_type": "markdown",
   "metadata": {},
   "source": [
    "# Session 3: Working with corpora\n"
   ]
  },
  {
   "cell_type": "code",
   "execution_count": null,
   "metadata": {
    "collapsed": true
   },
   "outputs": [],
   "source": []
  },
  {
   "cell_type": "code",
   "execution_count": null,
   "metadata": {
    "collapsed": true
   },
   "outputs": [],
   "source": []
  },
  {
   "cell_type": "code",
   "execution_count": null,
   "metadata": {
    "collapsed": true
   },
   "outputs": [],
   "source": []
  },
  {
   "cell_type": "code",
   "execution_count": null,
   "metadata": {
    "collapsed": true
   },
   "outputs": [],
   "source": []
  },
  {
   "cell_type": "code",
   "execution_count": null,
   "metadata": {
    "collapsed": true
   },
   "outputs": [],
   "source": []
  },
  {
   "cell_type": "markdown",
   "metadata": {},
   "source": [
    "### Test-driven programming\n",
    "\n",
    "In test-driven design, you define your expected output, and then write code that achieves that. This makes it easy to keep track of your progress, and prevents *feature creep*.\n",
    "\n",
    "For the last part of the session, explore some NLTK texts, using some of Python's *operators*, listed below.\n",
    "\n",
    "### Common relationals\n",
    "\n",
    "|  Relational | Meaning |\n",
    "|--------------:|:------------|\n",
    "| <code><</code>    |  less than |\n",
    "| <code><=</code>   |   less than or equal to |\n",
    "| <code>==</code>  |    equal to (note this is two \"=\" signs, not one) |\n",
    "| <code>!=</code>   |   not equal to |\n",
    "| <code>\\></code>   |   greater than |\n",
    "| <code>\\>=</code> |   greater than or equal to |\n",
    "\n",
    "### Common operators\n",
    "\n",
    "| Operator  | Purpose  |\n",
    "|-----------|------------|\n",
    "| <code>s.startswith(t)</code> | test if s starts with t |\n",
    "| <code>s.endswith(t)</code>  |  test if s ends with t |\n",
    "| <code>t in s</code>         |  test if t is a substring of s |\n",
    "| <code>s.islower()</code>    |  test if s contains cased characters and all are lowercase |\n",
    "| <code>s.isupper()</code>    |  test if s contains cased characters and all are uppercase |\n",
    "| <code>s.isalpha()</code>    |  test if s is non-empty and all characters in s are alphabetic |\n",
    "| <code>s.isalnum()</code>    |  test if s is non-empty and all characters in s are alphanumeric |\n",
    "| <code>s.isdigit()</code>    |  test if s is non-empty and all characters in s are digits |\n",
    "| <code>s.istitle()</code>    |  test if s contains cased characters and is titlecased (i.e. all words in s have initial capitals) |"
   ]
  }
 ],
 "metadata": {
  "kernelspec": {
   "display_name": "Python 2",
   "language": "python",
   "name": "python2"
  },
  "language_info": {
   "codemirror_mode": {
    "name": "ipython",
    "version": 2
   },
   "file_extension": ".py",
   "mimetype": "text/x-python",
   "name": "python",
   "nbconvert_exporter": "python",
   "pygments_lexer": "ipython2",
   "version": "2.7.10"
  }
 },
 "nbformat": 4,
 "nbformat_minor": 0
}
