{
 "cells": [
  {
   "cell_type": "markdown",
   "metadata": {},
   "source": [
    "## Warming Up to Python\n",
    "\n",
    "This notebook is for anyone new to the Python language. If fluent Parseltongue (Python) coder, move on to the next notebook. Otherwise, let's go...\n",
    "\n",
    "Go to this https://try.jupyter.org/ , click on **new** -> **Python 3**  and it will bring you to a next page. [see this if you can't find the button to start the notebook](http://ibin.co/2MqL1JAmPqKg)\n",
    "\n",
    "This is the Jupyter notebook (aka `ipython-notebook`) interface, every \"clickable\" box is refer to as a cell. And you can switch between a text cell, where you can write text like this or a code cell where you can execute python code on the fly. To proceed, click on each code cell and press `shift + enter`...\n",
    "\n",
    "## Hello World!\n",
    "\n",
    "Like all the programmers that came before us, let's try to make the computer print \"Hello World\" in `python`:"
   ]
  },
  {
   "cell_type": "code",
   "execution_count": null,
   "metadata": {},
   "outputs": [],
   "source": [
    "print (\"Hello Word\")"
   ]
  },
  {
   "cell_type": "markdown",
   "metadata": {},
   "source": [
    "The philosophy of the python language is to write readable code, executing the following line in python would describe the **Zen of Python**:"
   ]
  },
  {
   "cell_type": "code",
   "execution_count": null,
   "metadata": {},
   "outputs": [],
   "source": [
    "import this"
   ]
  },
  {
   "cell_type": "markdown",
   "metadata": {},
   "source": [
    "And the simplicity extends to dealing with numbers:"
   ]
  },
  {
   "cell_type": "code",
   "execution_count": null,
   "metadata": {},
   "outputs": [],
   "source": [
    "print(3 + 5)"
   ]
  },
  {
   "cell_type": "markdown",
   "metadata": {},
   "source": [
    "We can also save these strings or numbers and then use them later on by saving them into variables:"
   ]
  },
  {
   "cell_type": "code",
   "execution_count": null,
   "metadata": {},
   "outputs": [],
   "source": [
    "x = \"Hello World\"\n",
    "y = 3 + 5\n",
    "z = x + \", Welcome to the matrix\"\n",
    "print(z)\n",
    "yy = y + y\n",
    "print(yy)"
   ]
  },
  {
   "cell_type": "markdown",
   "metadata": {},
   "source": [
    "Computers are not as smart as the humans who created them. They don't know strings, integers, numbers, text or any sort of types. We, as humans, have to specifically tell them. And in the case of python, when we create a string/text object, python assumes that anything embedded between quotation marks as strings and tell the computer that the thing we are telling the computer is a string.\n",
    "\n",
    "We can know the type of a variable in python using one of the [built-in functions](https://docs.python.org/2/library/functions.html) `type()`:"
   ]
  },
  {
   "cell_type": "code",
   "execution_count": null,
   "metadata": {},
   "outputs": [],
   "source": [
    "x = \"Hello World\"\n",
    "type(x)"
   ]
  },
  {
   "cell_type": "markdown",
   "metadata": {},
   "source": [
    "## Parseltongue Baby Talk\n",
    "\n",
    "Here's some intuitive ways to manipulate text, numbers, lists in python using some built-in functions.\n",
    "\n",
    "This is how one would define a list of things in python:"
   ]
  },
  {
   "cell_type": "code",
   "execution_count": null,
   "metadata": {},
   "outputs": [],
   "source": [
    "list1 = [1,1,2,2,3,4,5,6,6]"
   ]
  },
  {
   "cell_type": "markdown",
   "metadata": {},
   "source": [
    "And you can simply count the number of items in the list with `len()`:"
   ]
  },
  {
   "cell_type": "code",
   "execution_count": null,
   "metadata": {},
   "outputs": [],
   "source": [
    "len(list1)"
   ]
  },
  {
   "cell_type": "markdown",
   "metadata": {},
   "source": [
    "You can also \"extract\" the number of **unique** items in the list by transforming the list into a set:"
   ]
  },
  {
   "cell_type": "code",
   "execution_count": null,
   "metadata": {},
   "outputs": [],
   "source": [
    "set(list1)"
   ]
  },
  {
   "cell_type": "markdown",
   "metadata": {},
   "source": [
    "The term to call this kind of transformation is called, \"*type casting*\". To reiterate the point, let's see how one can check the *types*:"
   ]
  },
  {
   "cell_type": "code",
   "execution_count": null,
   "metadata": {},
   "outputs": [],
   "source": [
    "a = [1,1,2,2,3,4,5,6,6]\n",
    "print(type(a), len(a))\n",
    "b = set(a)\n",
    "print(type(b), len(b))"
   ]
  },
  {
   "cell_type": "markdown",
   "metadata": {},
   "source": [
    "We can also remove items from a list by iterating through each item and checking them. So, let's say we don't want twos and sixes in our list:"
   ]
  },
  {
   "cell_type": "code",
   "execution_count": null,
   "metadata": {},
   "outputs": [],
   "source": [
    "a = [1,1,2,2,3,4,5,6,6]\n",
    "alist_with_no_2s_and_no_6s = [num for num in a if (num is not 2) and (num is not 6)]\n",
    "print(alist_with_no_2s_and_no_6s)"
   ]
  },
  {
   "cell_type": "markdown",
   "metadata": {},
   "source": [
    "You can also check if the item is in a list of unwanted items, e.g.:"
   ]
  },
  {
   "cell_type": "code",
   "execution_count": null,
   "metadata": {},
   "outputs": [],
   "source": [
    "a = [1,1,2,2,3,4,5,6,6]\n",
    "alist_with_no_2s_and_no_6s = [num for num in a if num not in (2,6)]\n",
    "print(alist_with_no_2s_and_no_6s)"
   ]
  },
  {
   "cell_type": "markdown",
   "metadata": {},
   "source": [
    "## Pythonic Slices (not Pizza)\n",
    "\n",
    "To access a particular subset of a list, one should access the subset using [slices](https://docs.python.org/2/tutorial/introduction.html):"
   ]
  },
  {
   "cell_type": "code",
   "execution_count": null,
   "metadata": {},
   "outputs": [],
   "source": [
    "a = [1,1,2,2,3,4,5,6,6]\n",
    "\n",
    "first_three_items = a[:3]\n",
    "print(first_three_items)\n",
    "\n",
    "last_three_items = a[-3:]\n",
    "print(last_three_items)"
   ]
  },
  {
   "cell_type": "markdown",
   "metadata": {},
   "source": [
    "One could also explicitly state the starting/ending indices when access a python slice, so the follow code would achieve identical output as the code above:"
   ]
  },
  {
   "cell_type": "code",
   "execution_count": null,
   "metadata": {},
   "outputs": [],
   "source": [
    "a = [1,1,2,2,3,4,5,6,6]\n",
    "num_items_in_a = len(a)\n",
    "\n",
    "first_three_items = a[0:3]\n",
    "print(first_three_items)\n",
    "\n",
    "last_three_items = a[-3:len(a)]\n",
    "print(last_three_items)"
   ]
  },
  {
   "cell_type": "markdown",
   "metadata": {},
   "source": [
    "Note that the indices in python starts from 0. So to access the first item in a list:"
   ]
  },
  {
   "cell_type": "code",
   "execution_count": null,
   "metadata": {},
   "outputs": [],
   "source": [
    "a = [1,1,2,2,3,4,5,6,6]\n",
    "first_item = a[0:1]\n",
    "print(first_item)"
   ]
  },
  {
   "cell_type": "markdown",
   "metadata": {},
   "source": [
    "Similarly a string is a list of characters and we can access substrings with slices (Note that even spaces are characters):"
   ]
  },
  {
   "cell_type": "code",
   "execution_count": null,
   "metadata": {},
   "outputs": [],
   "source": [
    "sentence = \"I am working with corpora\"\n",
    "first_three_chars = sentence[:3]\n",
    "print(first_three_chars)\n",
    "last_three_chars = sentence[-3:]\n",
    "print(last_three_chars)"
   ]
  },
  {
   "cell_type": "markdown",
   "metadata": {},
   "source": [
    "A picture tells a thousand words, I hope the following picture clearly explains what python slices do:\n",
    "\n",
    "![Python Slices](http://infohost.nmt.edu/tcc/help/pubs/python/web/fig/slicing.png)\n",
    "\n",
    "----\n",
    "\n",
    "Strings are particularly easy to manipulate in python and that is the primary reason many researchers use python to *work with corpora*\n",
    "\n",
    "You can sound angry by uppercasing every letter or lower case everything is you like to soften the tone ;P:"
   ]
  },
  {
   "cell_type": "code",
   "execution_count": null,
   "metadata": {},
   "outputs": [],
   "source": [
    "sentence = \"I am working with corpora\"\n",
    "print(sentence.upper())\n",
    "print(sentence.lower())"
   ]
  },
  {
   "cell_type": "markdown",
   "metadata": {},
   "source": [
    "Or you could check whether a character is upper or lower case:"
   ]
  },
  {
   "cell_type": "code",
   "execution_count": null,
   "metadata": {},
   "outputs": [],
   "source": [
    "word_i = \"I\"\n",
    "word_i.isupper() # Returns true if `word_i` is uppercase."
   ]
  },
  {
   "cell_type": "markdown",
   "metadata": {},
   "source": [
    "Now you try and see how to check if `word_i` is lowercase (fill in your own code in place of ?????)"
   ]
  },
  {
   "cell_type": "code",
   "execution_count": null,
   "metadata": {},
   "outputs": [],
   "source": [
    "word_i = \"I\"\n",
    "word_i.is?????()"
   ]
  },
  {
   "cell_type": "markdown",
   "metadata": {},
   "source": [
    "\"One of the best qualities of Python is its consistency. After working with Python for a while, you are able to start making informed, correct guesses about features that are new to you.\" - [Fluent Python by Luciano Ramalho](http://shop.oreilly.com/product/0636920032519.do)\n",
    "\n",
    "## More Pythonic idioms when dealing with strings\n",
    "\n",
    "**Counting the no. of character in a sentence**"
   ]
  },
  {
   "cell_type": "code",
   "execution_count": null,
   "metadata": {},
   "outputs": [],
   "source": [
    "sentence = \"I am working with corpora\"\n",
    "print (len(sentence))"
   ]
  },
  {
   "cell_type": "markdown",
   "metadata": {},
   "source": [
    "**Counting the no. of words in a sentence**"
   ]
  },
  {
   "cell_type": "code",
   "execution_count": null,
   "metadata": {},
   "outputs": [],
   "source": [
    "sentence = \"I am working with corpora\"\n",
    "tokens = sentence.split()\n",
    "print(len(tokens))"
   ]
  },
  {
   "cell_type": "markdown",
   "metadata": {},
   "source": [
    "**Getting the index of the first instance of a word in a sentence**"
   ]
  },
  {
   "cell_type": "code",
   "execution_count": null,
   "metadata": {},
   "outputs": [],
   "source": [
    "sentence = \"I am working with corpora\"\n",
    "tokens = sentence.split()\n",
    "print(tokens.index('am'))"
   ]
  },
  {
   "cell_type": "markdown",
   "metadata": {},
   "source": [
    "**Slicing sentence up**"
   ]
  },
  {
   "cell_type": "code",
   "execution_count": null,
   "metadata": {},
   "outputs": [],
   "source": [
    "sentence = \"I am working with corpora\"\n",
    "tokens = sentence.split()\n",
    "first_three_words = tokens[:3]\n",
    "last_three_words = tokens[-3:]\n",
    "print(first_three_words)\n",
    "print(last_three_words)"
   ]
  },
  {
   "cell_type": "markdown",
   "metadata": {},
   "source": [
    "(We'll see more of these when we deal with Ngrams in the future)\n",
    "\n",
    "**Removing stop words**\n",
    "\n",
    "Similar to how we remove unwanted items in a list of integers, we do the same with a list of strings:"
   ]
  },
  {
   "cell_type": "code",
   "execution_count": null,
   "metadata": {},
   "outputs": [],
   "source": [
    "sentence = \"I am working with corpora\"\n",
    "tokens = sentence.split()\n",
    "stopwords = ['I', 'am', 'with]\n",
    "tokens_no_stop_words = [word for word in tokens if word not in stopwords]\n",
    "print(tokens_no_stop_words)"
   ]
  },
  {
   "cell_type": "markdown",
   "metadata": {},
   "source": [
    "(The `[word for word in tokens if word not in stopwords]` code is sort of a funny syntax, it's call **list comprehension** and we'll explain it in the later sessions.)\n",
    "\n",
    "## Jupyter/IPython Notebook Tricks\n",
    "\n",
    "Now, for some Jupyter/Ipython Notebook tricks that one would find useful.\n",
    "\n",
    "If you want something to be \"silenced\" as you write multiple lines of code, you can use this the `clear_output()` function. For example, let's say you have a function that sums 2 integers and it always prints this annoying message that says, \"Summing Integers...\"."
   ]
  },
  {
   "cell_type": "code",
   "execution_count": null,
   "metadata": {},
   "outputs": [],
   "source": [
    "def sum_int(x, y):\n",
    "    print(\"Summing Intergers...\")\n",
    "    return x + y\n",
    "\n",
    "z1 = sum_int(3, 5)\n",
    "z2 = sum_int(2, 2)"
   ]
  },
  {
   "cell_type": "markdown",
   "metadata": {},
   "source": [
    "*Imagine if you have to call that function 1 million times...*\n",
    "\n",
    "To silence that message in a function, you can do this:"
   ]
  },
  {
   "cell_type": "code",
   "execution_count": null,
   "metadata": {},
   "outputs": [],
   "source": [
    "from IPython.display import display, clear_output \n",
    "\n",
    "def sum_int(x, y):\n",
    "    print(\"Summing Intergers...\")\n",
    "    return x + y\n",
    "\n",
    "z1 = sum_int(3, 5)\n",
    "z2 = sum_int(2, 2)\n",
    "clear_output()"
   ]
  },
  {
   "cell_type": "markdown",
   "metadata": {},
   "source": [
    "**Voila, no annoying messages!!**\n",
    "\n",
    "Alright that's all the warm-up there is for today's WwC!!! stay-tuned for the next pythonic warm-up..."
   ]
  }
 ],
 "metadata": {},
 "nbformat": 4,
 "nbformat_minor": 0
}
