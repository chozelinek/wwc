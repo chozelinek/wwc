{
 "cells": [
  {
   "cell_type": "markdown",
   "metadata": {},
   "source": [
    "Session X: Working with webdata\n",
    "====\n",
    "\n",
    "This is a crash course adapted from @DrChunk's [Coursera Python course](https://www.coursera.org/learn/python-network-data/home/welcome). Free Python textbook also available: https://goo.gl/khBOeX (the chapters relating to this crash course are Chapter 11-13).\n",
    "\n",
    "We will cover the three set of slides that can also be found:\n",
    "\n",
    " - [Regex](https://docs.google.com/presentation/d/1x7AyMWJqL6w15ig-xZ6vTDsnaqxkIcumLueCVs0RpCI/edit#slide=id.p49)\n",
    " - [Network Programming](https://docs.google.com/presentation/d/1MxNWMKceFNqwhUGabIfdmpHCQcowmeMgpMNuOZC8fdc/edit#slide=id.p64)\n",
    " - [Web Services](https://docs.google.com/presentation/d/1NsmEzcCMYuBrfm0lRrUVAoI2Rxou3xn9wpDwnfCAH2k/edit#slide=id.p61)\n",
    "\n",
    "\n",
    "This will be a prelude to more detailed lessons on XML, JSON, REST, Scrapping the web, ...\n",
    "\n",
    "\n",
    "\n",
    "\n",
    "\n",
    "How do computer communicate?\n",
    "====\n",
    "\n",
    "Computer communicate through applications and protocols that governs/controls the communication. \n",
    "\n",
    "**What is socket programming?**"
   ]
  },
  {
   "cell_type": "code",
   "execution_count": null,
   "metadata": {},
   "outputs": [],
   "source": [
    "import socket\n",
    "\n",
    "mysock = socket.socket(socket.AF_INET, socket.SOCK_STREAM)\n",
    "mysock.connect(('www.py4inf.com', 80))\n",
    "mysock.send('GET http://www.py4inf.com/code/romeo.txt HTTP/1.0\\n\\n')\n",
    "\n",
    "while True:\n",
    "    data = mysock.recv(512)\n",
    "    if ( len(data) < 1 ) :\n",
    "        break\n",
    "    print data;\n",
    "\n",
    "mysock.close()"
   ]
  },
  {
   "cell_type": "markdown",
   "metadata": {},
   "source": [
    "**Before we continue, try this code in python**"
   ]
  },
  {
   "cell_type": "code",
   "execution_count": null,
   "metadata": {},
   "outputs": [],
   "source": [
    "import antigravity"
   ]
  },
  {
   "cell_type": "markdown",
   "metadata": {},
   "source": [
    "**How to download and read a file**"
   ]
  },
  {
   "cell_type": "code",
   "execution_count": null,
   "metadata": {},
   "outputs": [],
   "source": [
    "#!/usr/bin/env python3 -*- coding: utf-8 -*-\n",
    "\n",
    "import re\n",
    "import urllib.request\n",
    "link = 'http://pr4e.dr-chuck.com/tsugi/mod/python-data/data/regex_sum_183416.txt'\n",
    "response = urllib.request.urlopen(link)\n",
    "text = response.read().decode()\n",
    "print(text)"
   ]
  },
  {
   "cell_type": "markdown",
   "metadata": {},
   "source": [
    "Regex: The programming language inside another programming language.\n",
    "====\n",
    "\n",
    "**Find all digits and sum them up!**"
   ]
  },
  {
   "cell_type": "code",
   "execution_count": null,
   "metadata": {},
   "outputs": [],
   "source": [
    "#!/usr/bin/env python3 -*- coding: utf-8 -*-\n",
    "\n",
    "import re\n",
    "import urllib.request\n",
    "link = 'http://pr4e.dr-chuck.com/tsugi/mod/python-data/data/regex_sum_183416.txt'\n",
    "response = urllib.request.urlopen(link)\n",
    "text = response.read().decode()\n",
    "\n",
    "print (sum(map(int, re.findall('[0-9]+', text))))"
   ]
  },
  {
   "cell_type": "markdown",
   "metadata": {},
   "source": [
    "**Let's read a webpage and extract things we want**\n",
    "\n",
    "Download a page, read the 17th link and go to that link and download the page again, read the 17th link, ... (do it 7 times)"
   ]
  },
  {
   "cell_type": "code",
   "execution_count": null,
   "metadata": {},
   "outputs": [],
   "source": [
    "#!/usr/bin/env python3 -*- coding: utf-8 -*-\n",
    "\n",
    "import urllib.request\n",
    "from bs4 import BeautifulSoup\n",
    "\n",
    "link = 'http://pr4e.dr-chuck.com/tsugi/mod/python-data/data/known_by_Rodrigo.html'\n",
    "\n",
    "for _ in range(7):\n",
    "\tresponse = urllib.request.urlopen(link)\n",
    "\thtml = response.read()\n",
    "\tbsoup = BeautifulSoup(html)\n",
    "\teighteenth = bsoup.find_all('a')[17]\n",
    "\tlink = eighteenth['href']\n",
    "\n",
    "print(eighteenth.text)"
   ]
  },
  {
   "cell_type": "markdown",
   "metadata": {},
   "source": [
    "XML: eXentensible Markup Language\n",
    "===\n",
    "\n",
    "**Download the XML file, find all the numbers embedded within <count>...</count> and sum them up.**"
   ]
  },
  {
   "cell_type": "code",
   "execution_count": null,
   "metadata": {},
   "outputs": [],
   "source": [
    "#!/usr/bin/env python3 -*- coding: utf-8 -*-\n",
    "import urllib.request\n",
    "import xml.etree.ElementTree as ET\n",
    "\n",
    "link = 'http://pr4e.dr-chuck.com/tsugi/mod/python-data/data/comments_183418.xml'\n",
    "\n",
    "response = urllib.request.urlopen(link)\n",
    "xmldata = response.read()\n",
    "tree = ET.fromstring(xmldata)\n",
    "counts = tree.findall('.//count')\n",
    "sum_counts = sum(int(c.text) for c in counts)\n",
    "print (sum_counts)"
   ]
  },
  {
   "cell_type": "markdown",
   "metadata": {},
   "source": [
    "JSON: \n",
    "====\n",
    "\n",
    "**Download the JSON file, find the `count` key and sum its value up**"
   ]
  },
  {
   "cell_type": "code",
   "execution_count": null,
   "metadata": {},
   "outputs": [],
   "source": [
    "#!/usr/bin/env python3 -*- coding: utf-8 -*-\n",
    "import urllib.request\n",
    "import json\n",
    "\n",
    "link = 'http://pr4e.dr-chuck.com/tsugi/mod/python-data/data/comments_183422.json'\n",
    "\n",
    "response = urllib.request.urlopen(link)\n",
    "jsondata = response.read()\n",
    "j = json.loads(jsondata.decode())\n",
    "print (sum(i['count'] for i in j['comments']))"
   ]
  },
  {
   "cell_type": "markdown",
   "metadata": {},
   "source": [
    "API:\n",
    "====\n",
    "\n",
    "Using the Google Geocode API, find the ID of a place `Masdar Institute`"
   ]
  },
  {
   "cell_type": "code",
   "execution_count": null,
   "metadata": {},
   "outputs": [],
   "source": [
    "#!/usr/bin/env python3 -*- coding: utf-8 -*-\n",
    "\n",
    "import urllib.parse\n",
    "import urllib.request\n",
    "import json\n",
    "\n",
    "serviceurl = 'http://maps.googleapis.com/maps/api/geocode/json?'\n",
    "address = 'Masdar Institute'\n",
    "link = serviceurl + urllib.parse.urlencode({'sensor':'false', 'address': address})\n",
    "response = urllib.request.urlopen(link)\n",
    "jsondata = response.read()\n",
    "j = json.loads(jsondata.decode())\n",
    "\n",
    "print(j['results'][0]['place_id'])"
   ]
  }
 ],
 "metadata": {},
 "nbformat": 4,
 "nbformat_minor": 0
}
