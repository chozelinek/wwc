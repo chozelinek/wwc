{
 "cells": [
  {
   "cell_type": "markdown",
   "metadata": {},
   "source": [
    "# Session 3: Files and Directories Operations\n",
    "\n",
    "In this session we provide an introduction into common operations with files and directories, like finding, copying, moving, deleting, renaming, etc.\n",
    "\n",
    "We will use for this purpose a number of python modules included in the standard library:\n",
    "\n",
    "- `os`\n",
    "- `os.path`\n",
    "- `shutil`\n",
    "- `glob`\n",
    "- `fnmatch`\n",
    "\n",
    "These are the things we will learn today:\n",
    "\n",
    "1. working with directories, you will learn to...\n",
    "\t1. get the current working directory\n",
    "\t1. distinguish between relative and absolute paths\n",
    "\t1. compose a pathname\n",
    "\t1. list the content of a directory\n",
    "\t1. change the current directory\n",
    "\t1. create a directory\n",
    "\t1. copy a directory\n",
    "\t1. move a directory\n",
    "\t1. remove a directory\n",
    "1. working with files, you will learn to...\n",
    "\t1. get the path and the name of a file\n",
    "\t1. get the base name of a file and its extension\n",
    "\t1. copy a file\n",
    "\t1. move a file (rename)\n",
    "\t1. remove a file\n",
    "1. finding stuff, you will learn to...\n",
    "\t1. glob.glob\n",
    "\t1. fnmatch.fnmatch\n",
    "\t1. os.walk\n",
    "\t1. find all files matching a pattern\n",
    "\t1. find all directories matching a pattern\n",
    "1. miscellaneous, you will learn to...\n",
    "\t1. check if a pathname is a file or a directory\n",
    "\t1. check if a directory/file exists\n",
    "\t1. permissions\n",
    "\n",
    "We have learnt so far how to read and write files."
   ]
  },
  {
   "cell_type": "code",
   "execution_count": null,
   "metadata": {},
   "outputs": [],
   "source": [
    "with open('README.md', 'r', encoding = 'utf-8') as infile:\n",
    "    text = infile.read()\n",
    "print(text)"
   ]
  },
  {
   "cell_type": "markdown",
   "metadata": {},
   "source": [
    "So far, so good. But what if the file is not in the same directory as our script?\n",
    "\n",
    "Then you need to indicate not only the name of the file, but its pathname. A pathname is a string indicating where a file or a directory is located within the file system.\n",
    "\n",
    "## working with directories\n",
    "\n",
    "First we will need to import the appropriate modules:"
   ]
  },
  {
   "cell_type": "code",
   "execution_count": null,
   "metadata": {},
   "outputs": [],
   "source": [
    "import os"
   ]
  },
  {
   "cell_type": "markdown",
   "metadata": {},
   "source": [
    "### where are we?"
   ]
  },
  {
   "cell_type": "code",
   "execution_count": null,
   "metadata": {},
   "outputs": [],
   "source": [
    "# get current working directory\n",
    "os.getcwd()"
   ]
  },
  {
   "cell_type": "markdown",
   "metadata": {},
   "source": [
    "### relative and absolute paths\n",
    "\n",
    "There are two types of paths:\n",
    "\n",
    "- relative (to the working directory)\n",
    "- absolute (full and unique path to the file in your system, starts always with a `/`)\n",
    "\n",
    "Example of relative path"
   ]
  },
  {
   "cell_type": "code",
   "execution_count": null,
   "metadata": {},
   "outputs": [],
   "source": [
    "import os.path\n",
    "# show it as relative path\n",
    "os.path.relpath(os.getcwd())"
   ]
  },
  {
   "cell_type": "markdown",
   "metadata": {},
   "source": [
    "Example of absolute path"
   ]
  },
  {
   "cell_type": "code",
   "execution_count": null,
   "metadata": {},
   "outputs": [],
   "source": [
    "# get an absolute path\n",
    "os.path.abspath('.')"
   ]
  },
  {
   "cell_type": "markdown",
   "metadata": {},
   "source": [
    "symbol | meaning\n",
    "---|---\n",
    "`/` | ROOT directory\n",
    "`~` | user home folder\n",
    "`.` | current directory\n",
    "`..` | one level up\n",
    "\n",
    "Learn more about pathnames in UNIX at:\n",
    "\n",
    "<http://teaching.idallen.com/cst8207/12f/notes/160_pathnames.html>\n",
    "\n",
    "### compose a pathname\n",
    "\n",
    "If you have worked with Windows and Unix OS, you will have already noticed that paths are written following different conventions. Luckily, Python includes in its standard library the function `os.path.join()`. It help us to work with paths properly, no matter which OS we are using, by using the appropriate separator (`\\` in Windows and `/` in Unix).˜"
   ]
  },
  {
   "cell_type": "code",
   "execution_count": null,
   "metadata": {},
   "outputs": [],
   "source": [
    "os.path.join('wwc','resources','completed-notebooks')"
   ]
  },
  {
   "cell_type": "markdown",
   "metadata": {},
   "source": [
    "`os.path.join` always yields a relative path to the current working directory.\n",
    "\n",
    "### list the content of a directory"
   ]
  },
  {
   "cell_type": "code",
   "execution_count": null,
   "metadata": {},
   "outputs": [],
   "source": [
    "os.listdir()"
   ]
  },
  {
   "cell_type": "markdown",
   "metadata": {},
   "source": [
    "### change the current directory"
   ]
  },
  {
   "cell_type": "code",
   "execution_count": null,
   "metadata": {},
   "outputs": [],
   "source": [
    "a_relative_path = os.path.join('resources') # relative path\n",
    "print(a_relative_path)\n",
    "os.chdir(a_relative_path)\n",
    "os.getcwd()\n",
    "an_absolute_path = os.getcwd() # absolute path\n",
    "print(an_absolute_path)\n",
    "os.chdir(an_absolute_path)\n",
    "os.getcwd()"
   ]
  },
  {
   "cell_type": "markdown",
   "metadata": {},
   "source": [
    "### challenges\n",
    "\n",
    "Change the working directory to the parent directory using the relative path symbols:"
   ]
  },
  {
   "cell_type": "code",
   "execution_count": null,
   "metadata": {},
   "outputs": [],
   "source": [
    "os.chdir('..')\n",
    "os.getcwd()"
   ]
  },
  {
   "cell_type": "markdown",
   "metadata": {},
   "source": [
    "Change the working directory to the folder `completed-notebooks` which is inside `resources` using relative paths:"
   ]
  },
  {
   "cell_type": "code",
   "execution_count": null,
   "metadata": {},
   "outputs": [],
   "source": [
    "os.chdir(os.path.join('resources','completed-notebooks'))\n",
    "os.getcwd()"
   ]
  },
  {
   "cell_type": "markdown",
   "metadata": {},
   "source": [
    "Change the working directory two levels up using relative path symbols:"
   ]
  },
  {
   "cell_type": "code",
   "execution_count": null,
   "metadata": {},
   "outputs": [],
   "source": [
    "os.chdir(os.path.join('..','..'))\n",
    "os.getcwd()"
   ]
  },
  {
   "cell_type": "markdown",
   "metadata": {},
   "source": [
    "### create a directory"
   ]
  },
  {
   "cell_type": "code",
   "execution_count": null,
   "metadata": {},
   "outputs": [],
   "source": [
    "os.mkdir('test')\n",
    "os.listdir()\n",
    "a_deeper_path = os.path.join('tmp','test')\n",
    "os.mkdir(a_deeper_path) # yields an error, intermediate folder missing\n",
    "os.makedirs(a_deeper_path)\n",
    "os.listdir()"
   ]
  },
  {
   "cell_type": "markdown",
   "metadata": {},
   "source": [
    "### copy a directory"
   ]
  },
  {
   "cell_type": "code",
   "execution_count": null,
   "metadata": {},
   "outputs": [],
   "source": [
    "import shutil\n",
    "shutil.copytree('tmp','tmp2')\n",
    "os.listdir()"
   ]
  },
  {
   "cell_type": "markdown",
   "metadata": {},
   "source": [
    "### move a directory"
   ]
  },
  {
   "cell_type": "code",
   "execution_count": null,
   "metadata": {},
   "outputs": [],
   "source": [
    "shutil.move('tmp2','..')\n",
    "os.listdir()\n",
    "os.listdir('..')"
   ]
  },
  {
   "cell_type": "markdown",
   "metadata": {},
   "source": [
    "### remove a directory\n",
    "\n",
    ">ACHTUNG!!! There is no undo button, no trash bin, so if you remove something, it will be lost forever."
   ]
  },
  {
   "cell_type": "code",
   "execution_count": null,
   "metadata": {},
   "outputs": [],
   "source": [
    "os.rmdir('test')\n",
    "os.listdir()\n",
    "os.rmdir('tmp') # yields an error, not empty\n",
    "shutil.rmtree('tmp')\n",
    "os.listdir()\n",
    "shutil.rmtree(os.path.join('..','tmp2'))\n",
    "os.listdir('..')"
   ]
  },
  {
   "cell_type": "markdown",
   "metadata": {},
   "source": [
    "## working with files\n",
    "\n",
    "Working with files is very similar to working with directories. You will always need a pathname to indicate where the file is located."
   ]
  },
  {
   "cell_type": "code",
   "execution_count": null,
   "metadata": {},
   "outputs": [],
   "source": [
    "os.getcwd()\n",
    "readme_path = os.path.join('..','README.md')\n",
    "readme_path\n",
    "readme_path = os.path.abspath(readme_path)\n",
    "readme_path"
   ]
  },
  {
   "cell_type": "markdown",
   "metadata": {},
   "source": [
    "### get the path and the name of a file"
   ]
  },
  {
   "cell_type": "code",
   "execution_count": null,
   "metadata": {},
   "outputs": [],
   "source": [
    "os.path.split(readme_path)\n",
    "file_path, file_name = os.path.split(readme_path)\n",
    "file_path\n",
    "file_name\n",
    "os.path.basename(readme_path)"
   ]
  },
  {
   "cell_type": "markdown",
   "metadata": {},
   "source": [
    "### get the base name of a file and its extension"
   ]
  },
  {
   "cell_type": "code",
   "execution_count": null,
   "metadata": {},
   "outputs": [],
   "source": [
    "os.path.splitext(file_name)\n",
    "file_basename, file_extension = os.path.splitext(file_name)"
   ]
  },
  {
   "cell_type": "markdown",
   "metadata": {},
   "source": [
    "### copy a file"
   ]
  },
  {
   "cell_type": "code",
   "execution_count": null,
   "metadata": {},
   "outputs": [],
   "source": [
    "dst_folder = os.path.split(readme_path)[0]\n",
    "dst_path = os.path.join(dst_folder,'README_copy.md')\n",
    "shutil.copy(readme_path,dst_path)\n",
    "os.listdir(dst_folder)"
   ]
  },
  {
   "cell_type": "markdown",
   "metadata": {},
   "source": [
    "### move a file (rename)"
   ]
  },
  {
   "cell_type": "code",
   "execution_count": null,
   "metadata": {},
   "outputs": [],
   "source": [
    "new_dst_path = os.path.join(dst_folder,'README2.md')\n",
    "shutil.move(dst_path,new_dst_path)\n",
    "os.listdir(dst_folder)\n",
    "shutil.move(new_dst_path,'.')\n",
    "os.listdir(dst_folder)\n",
    "os.listdir('.')"
   ]
  },
  {
   "cell_type": "markdown",
   "metadata": {},
   "source": [
    "### remove a file\n",
    "\n",
    ">ACHTUNG!!! There is no undo button, no trash bin, so if you remove something, it will be lost forever."
   ]
  },
  {
   "cell_type": "code",
   "execution_count": null,
   "metadata": {},
   "outputs": [],
   "source": [
    "os.remove('README2.md')\n",
    "os.listdir()"
   ]
  },
  {
   "cell_type": "markdown",
   "metadata": {},
   "source": [
    "## finding stuff\n",
    "\n",
    "We will need at least to building blocks to find files/directories:\n",
    "\n",
    "- a function to check if the pathnames match a pattern or not.\n",
    "- a function to go through the directory tree structure recursively.\n",
    "\n",
    "### glob.glob\n",
    "\n",
    "This function allows us to find pathnames matching a particular *glob* pattern, which is something similar to simple regular expressions. It returns a list of pathnames."
   ]
  },
  {
   "cell_type": "code",
   "execution_count": null,
   "metadata": {},
   "outputs": [],
   "source": [
    "import glob\n",
    "md_files = glob.glob('*.md')"
   ]
  },
  {
   "cell_type": "markdown",
   "metadata": {},
   "source": [
    "Be aware that its search is not recursive.\n",
    "\n",
    "### fnmatch.fnmatch\n",
    "\n",
    "Check if a file name (or the last element of a path) matches a *glob* pattern."
   ]
  },
  {
   "cell_type": "code",
   "execution_count": null,
   "metadata": {},
   "outputs": [],
   "source": [
    "import fnmatch\n",
    "for file in os.listdir('.'):\n",
    "    print(file, fnmatch.fnmatch(file,'*.md'))"
   ]
  },
  {
   "cell_type": "markdown",
   "metadata": {},
   "source": [
    "The result is `True` or `False`.\n",
    "\n",
    "A shortcut to filter those files/folders matching the pattern and saving them in a list is `fnmatch.filter`:"
   ]
  },
  {
   "cell_type": "code",
   "execution_count": null,
   "metadata": {},
   "outputs": [],
   "source": [
    "fnmatch.filter(os.listdir('.'),'*resourc*')\n",
    "fnmatch.filter(os.listdir('.'),'*.md')"
   ]
  },
  {
   "cell_type": "markdown",
   "metadata": {},
   "source": [
    "### os.walk\n",
    "\n",
    "This function goes through directory tree structure (a folder and its contents/subsfolders) creating a generator for all the elements. A generator is an iterable data structure (we can run loops on it), like a list. Each item in the generator is a tuple containing a string for the `path to the directory`, `a list of directories`, `a list of files`. This function finds everything."
   ]
  },
  {
   "cell_type": "code",
   "execution_count": null,
   "metadata": {},
   "outputs": [],
   "source": [
    "resources_contents = os.walk('resources')\n",
    "for item in resources_contents:\n",
    "    print(item)"
   ]
  },
  {
   "cell_type": "markdown",
   "metadata": {},
   "source": [
    "### find all files matching a pattern"
   ]
  },
  {
   "cell_type": "code",
   "execution_count": null,
   "metadata": {},
   "outputs": [],
   "source": [
    "def get_file_pathnames(directory, pattern):\n",
    "    matches = []\n",
    "    for root, dirnames, filenames in os.walk(directory):\n",
    "        for filename in fnmatch.filter(filenames, pattern):\n",
    "            matches.append(os.path.join(root, filename))\n",
    "    return matches\n",
    "\n",
    "files = get_file_pathnames('.','*.md')"
   ]
  },
  {
   "cell_type": "markdown",
   "metadata": {},
   "source": [
    "### find all directories matching a pattern"
   ]
  },
  {
   "cell_type": "code",
   "execution_count": null,
   "metadata": {},
   "outputs": [],
   "source": [
    "def get_dir_pathnames(directory, pattern):\n",
    "    matches = []\n",
    "    for root, dirnames, filenames in os.walk(directory):\n",
    "        for dirname in fnmatch.filter(dirnames, pattern):\n",
    "            matches.append(os.path.join(root, dirname))\n",
    "    return matches\n",
    "\n",
    "dirs = get_dir_pathnames('.','*.md')"
   ]
  },
  {
   "cell_type": "markdown",
   "metadata": {},
   "source": [
    "## miscellaneous\n",
    "\n",
    "### check if a pathname is a file or a directoy"
   ]
  },
  {
   "cell_type": "code",
   "execution_count": null,
   "metadata": {},
   "outputs": [],
   "source": [
    "os.path.isdir('README.md')\n",
    "os.path.isdir('resources')\n",
    "os.path.isfile('resources')\n",
    "os.path.isfile('README.md')"
   ]
  },
  {
   "cell_type": "markdown",
   "metadata": {},
   "source": [
    "### check if a pathname exists"
   ]
  },
  {
   "cell_type": "code",
   "execution_count": null,
   "metadata": {},
   "outputs": [],
   "source": [
    "pathname_dir = os.path.join('resources','completed-notebooks')\n",
    "os.path.exists(pathname_dir)\n",
    "pathname_file = os.path.join(pathname_dir, 'nltk-session-1-complete.ipynb')\n",
    "os.path.exists(pathname_file)\n",
    "pathname_file = os.path.join(pathname_dir, 'nltk-session-10-complete.ipynb')"
   ]
  },
  {
   "cell_type": "markdown",
   "metadata": {},
   "source": [
    "### permissions\n",
    "\n",
    "Permissions are properties assigned to directories or files stating who (which user or group of users) can do what (read, write, execute)."
   ]
  },
  {
   "cell_type": "code",
   "execution_count": null,
   "metadata": {},
   "outputs": [],
   "source": [
    "file_info = os.stat('README2.md') # to know things about the file\n",
    "# get the permissions\n",
    "os.stat.filemode(file_info.st_mode)\n",
    "# set the permissions\n",
    "os.chmod('README2.md',0o664)\n",
    "file_info = os.stat('README.md')\n",
    "os.stat.filemode(file_info.st_mode)"
   ]
  },
  {
   "cell_type": "markdown",
   "metadata": {},
   "source": [
    "## The challenge\n",
    "\n",
    "### Find all completed notebooks in the repo"
   ]
  },
  {
   "cell_type": "code",
   "execution_count": null,
   "metadata": {},
   "outputs": [],
   "source": [
    "\n"
   ]
  },
  {
   "cell_type": "markdown",
   "metadata": {},
   "source": [
    "### Create a folder inside `resources` called `backups`"
   ]
  },
  {
   "cell_type": "code",
   "execution_count": null,
   "metadata": {},
   "outputs": [],
   "source": [
    "\n"
   ]
  },
  {
   "cell_type": "markdown",
   "metadata": {},
   "source": [
    "### Copy all completed notebooks into that folder"
   ]
  },
  {
   "cell_type": "code",
   "execution_count": null,
   "metadata": {},
   "outputs": [],
   "source": [
    "\n"
   ]
  },
  {
   "cell_type": "markdown",
   "metadata": {},
   "source": [
    "### Change the working directory to the new folder"
   ]
  },
  {
   "cell_type": "code",
   "execution_count": null,
   "metadata": {},
   "outputs": [],
   "source": [
    "\n"
   ]
  },
  {
   "cell_type": "markdown",
   "metadata": {},
   "source": [
    "### Rename all files by changing the extension to `.bkp`"
   ]
  },
  {
   "cell_type": "code",
   "execution_count": null,
   "metadata": {},
   "outputs": [],
   "source": [
    "\n"
   ]
  },
  {
   "cell_type": "markdown",
   "metadata": {},
   "source": [
    "### Change the working directory to the root folder of the repo"
   ]
  },
  {
   "cell_type": "code",
   "execution_count": null,
   "metadata": {},
   "outputs": [],
   "source": [
    "\n"
   ]
  },
  {
   "cell_type": "markdown",
   "metadata": {},
   "source": [
    "### Move the backups folder to the root"
   ]
  },
  {
   "cell_type": "code",
   "execution_count": null,
   "metadata": {},
   "outputs": [],
   "source": [
    "\n"
   ]
  },
  {
   "cell_type": "markdown",
   "metadata": {},
   "source": [
    "### Delete the backups folder"
   ]
  },
  {
   "cell_type": "code",
   "execution_count": null,
   "metadata": {},
   "outputs": [],
   "source": [
    "\n"
   ]
  },
  {
   "cell_type": "markdown",
   "metadata": {},
   "source": [
    "### Create a folder called `tmp`"
   ]
  },
  {
   "cell_type": "code",
   "execution_count": null,
   "metadata": {},
   "outputs": [],
   "source": [
    "\n"
   ]
  },
  {
   "cell_type": "markdown",
   "metadata": {},
   "source": [
    "### Inside `tmp` create 100 copies of `README.md` prepending a prefix `copy1-` to each copy"
   ]
  },
  {
   "cell_type": "code",
   "execution_count": null,
   "metadata": {},
   "outputs": [],
   "source": [
    "\n"
   ]
  },
  {
   "cell_type": "markdown",
   "metadata": {},
   "source": [
    "### Remove only files with an odd prefix (`copy1`, `copy3`, `copy5`)"
   ]
  },
  {
   "cell_type": "code",
   "execution_count": null,
   "metadata": {},
   "outputs": [],
   "source": [
    "\n"
   ]
  },
  {
   "cell_type": "markdown",
   "metadata": {},
   "source": [
    "### Remove the `tmp` folder"
   ]
  },
  {
   "cell_type": "code",
   "execution_count": null,
   "metadata": {},
   "outputs": [],
   "source": [
    "\n"
   ]
  },
  {
   "cell_type": "markdown",
   "metadata": {},
   "source": [
    "# Useful links and references\n",
    "\n",
    "Official Python standard modules for file and directory access:\n",
    "\n",
    "<https://docs.python.org/3.5/library/os.html#files-and-directories>\n",
    "\n",
    "`os.path`\n",
    "\n",
    "<https://docs.python.org/3.5/library/os.path.html?highlight=os.path>\n",
    "\n",
    "Dive into Python 3:\n",
    "\n",
    "<http://www.diveintopython3.net/comprehensions.html>\n",
    "\n",
    "And final sections of:\n",
    "\n",
    "<http://www.diveintopython3.net/files.html>\n",
    "\n",
    "Tutorials point:\n",
    "\n",
    "<http://www.tutorialspoint.com/python/python_files_io.htm>\n",
    "\n",
    "Programiz:\n",
    "\n",
    "<http://www.programiz.com/python-programming/directory>\n",
    "\n",
    "Thomas-cokelaer:\n",
    "\n",
    "<http://www.thomas-cokelaer.info/tutorials/python/module_os.html>\n",
    "\n",
    "The future, `pathlib`:\n",
    "\n",
    "<https://docs.python.org/3/library/pathlib.html>\n",
    "\n",
    "<http://knowsuchagency.github.io/pyhi/posts/pathlib-and-ospath/>"
   ]
  }
 ],
 "metadata": {},
 "nbformat": 4,
 "nbformat_minor": 0
}
