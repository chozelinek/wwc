{
 "cells": [
  {
   "cell_type": "markdown",
   "metadata": {},
   "source": [
    "<br>\n",
    "<img style=\"float:left\" src=\"http://ipython.org/_static/IPy_header.png\" />\n",
    "<br>"
   ]
  },
  {
   "cell_type": "markdown",
   "metadata": {},
   "source": [
    "# Session 4: Getting the most out of what we've learned"
   ]
  },
  {
   "cell_type": "markdown",
   "metadata": {},
   "source": [
    "So, now you know Python and NLTK! The main things we still have to do are:\n",
    "\n",
    "1. Address some specific questions\n",
    "2. Manage resources and results\n",
    "3. Brainstorm some other uses for NLTK\n",
    "4. Integrate IPython into your existing workflow\n",
    "5. Have an open discussion about what we've done\n",
    "6. Summarise and say goodbye!\n",
    "\n",
    "This lesson is pretty light on content and structure. Please do jump in at any point, and tell us about your research, and whether or not what you've learned here will be of much use.\n",
    "\n",
    "Or, ask us if Python can do a certain thing. Maybe we have some tips!"
   ]
  },
  {
   "cell_type": "code",
   "execution_count": null,
   "metadata": {
    "collapsed": false
   },
   "outputs": [],
   "source": [
    "import nltk\n",
    "from IPython.display import (display, clear_output, Image, display_pretty, \n",
    "                 display_html, display_jpeg, display_png, display_svg, HTML)\n",
    "%matplotlib inline"
   ]
  },
  {
   "cell_type": "markdown",
   "metadata": {},
   "source": [
    "## Mining the web"
   ]
  },
  {
   "cell_type": "markdown",
   "metadata": {},
   "source": [
    "Let's have a look at [Project Gutenberg](https://www.gutenberg.org/wiki/Technology_%28Bookshelf%29). Let's check out *Food processing*.\n",
    "\n",
    "Using the skills we've learned, it should be possible to extract texts from Project Gutenberg."
   ]
  },
  {
   "cell_type": "code",
   "execution_count": null,
   "metadata": {
    "collapsed": false
   },
   "outputs": [],
   "source": [
    "booknums = ['24510', '19073', '21592']"
   ]
  },
  {
   "cell_type": "code",
   "execution_count": null,
   "metadata": {
    "collapsed": false
   },
   "outputs": [],
   "source": [
    "def gutenberger(list_of_nums):\n",
    "    from urllib import urlopen\n",
    "    text = []\n",
    "    for num in list_of_nums:\n",
    "        num = str(num)\n",
    "        url = 'https://www.gutenberg.org/cache/epub/' + num + '/pg' + num + '.txt'\n",
    "        raw = urlopen(url).read()\n",
    "        raw = unicode(raw, 'utf-8')\n",
    "        # title = 'No title'\n",
    "        title = next(line for line in raw.splitlines() if line.startswith('Title:'))\n",
    "        print title\n",
    "        title = title.replace('Title: ', '')\n",
    "        text.append([title, raw])\n",
    "    return text"
   ]
  },
  {
   "cell_type": "code",
   "execution_count": null,
   "metadata": {
    "collapsed": false
   },
   "outputs": [],
   "source": [
    "# call our function!\n",
    "books = gutenberger(booknums)"
   ]
  },
  {
   "cell_type": "markdown",
   "metadata": {},
   "source": [
    "The thing to remember here is that the web is well-structured. URLs are just strings, and you can hack them very easily."
   ]
  },
  {
   "cell_type": "markdown",
   "metadata": {},
   "source": [
    "### Getting my data into NLTK"
   ]
  },
  {
   "cell_type": "markdown",
   "metadata": {},
   "source": [
    "The key here is to get your work into **clean, plain text**"
   ]
  },
  {
   "cell_type": "markdown",
   "metadata": {},
   "source": [
    "So, let's save the Gutenberg data to disk:"
   ]
  },
  {
   "cell_type": "code",
   "execution_count": null,
   "metadata": {
    "collapsed": false
   },
   "outputs": [],
   "source": [
    "def saver(book_data):\n",
    "    import os\n",
    "    # a path to our soon-to-be corpus\n",
    "    newpath = 'corpora/gutenberg'\n",
    "    os.makedirs(newpath)\n",
    "    for title, text in book_data:\n",
    "        title = title.replace(' ', '-')\n",
    "        filename = ''.join([c for c in title if c.isalnum() or c == '-']) + '.txt'\n",
    "        fo = open(os.path.join(newpath, filename),\"w\")\n",
    "        fo.write(text.encode(\"UTF-8\"))\n",
    "        fo.close()\n",
    "        print 'File created: ' + filename"
   ]
  },
  {
   "cell_type": "code",
   "execution_count": null,
   "metadata": {
    "collapsed": false
   },
   "outputs": [],
   "source": [
    "saver(books)"
   ]
  },
  {
   "cell_type": "markdown",
   "metadata": {},
   "source": [
    "### Challenge"
   ]
  },
  {
   "cell_type": "markdown",
   "metadata": {},
   "source": [
    "**Combine the two functions into `book_saver()`**."
   ]
  },
  {
   "cell_type": "markdown",
   "metadata": {},
   "source": [
    "## Adding information to our text"
   ]
  },
  {
   "cell_type": "code",
   "execution_count": null,
   "metadata": {
    "collapsed": false
   },
   "outputs": [],
   "source": [
    "from nltk.corpus import brown\n",
    "print brown.words() \n",
    "print brown.tagged_words()"
   ]
  },
  {
   "cell_type": "markdown",
   "metadata": {},
   "source": [
    "Some other things are annotated in the Brown Corpus, too. Head here for more info:"
   ]
  },
  {
   "cell_type": "code",
   "execution_count": null,
   "metadata": {
    "collapsed": false
   },
   "outputs": [],
   "source": [
    "HTML('<iframe src=http://en.wikipedia.org/wiki/Brown_Corpus#Part-of-speech_tags_used width=700 height=350></iframe>')"
   ]
  },
  {
   "cell_type": "markdown",
   "metadata": {},
   "source": [
    "So, we can pretty easily make lists containing all words of a given type. Below, we'll print the first 50 adverbs. Try changing the 'RB' to another kind of tag (in the list above), and see what results turn up. \n",
    "\n",
    "> JJ and RB are shorthand for adjective and adverb. It's linguistics jargon from the 50s that we're stuck with now."
   ]
  },
  {
   "cell_type": "code",
   "execution_count": null,
   "metadata": {
    "collapsed": false
   },
   "outputs": [],
   "source": [
    "from nltk.corpus import brown\n",
    "adverbs = []\n",
    "for word, tag in brown.tagged_words():\n",
    "    # get any word whose tag is adverb\n",
    "    if tag == 'RB':\n",
    "        adverbs.append(word)\n",
    "adverbs[:50]"
   ]
  },
  {
   "cell_type": "markdown",
   "metadata": {},
   "source": [
    "It's easy to grasp the potential power of annotation: think how difficult it would be to write regular expressions that locate all adverbs!\n",
    "\n",
    "> **Note:** John Sinclair, an early proponent of corpus linguistics generally, was famously resistant to the use of annotation and parsing. He felt that the corpus alone should be used to build theory, rather than using existing theories (grammars) to annotate data (e.g. [2004](#ref:sinclair)). Though this is an uncommon viewpoint today, it is still useful to remember that the process of 'value-adding' is never free of theory or interpretation."
   ]
  },
  {
   "cell_type": "markdown",
   "metadata": {},
   "source": [
    "## Part-of-speech tagging"
   ]
  },
  {
   "cell_type": "markdown",
   "metadata": {},
   "source": [
    "Part-of-speech (POS) tagging is the process of assigning each token a label. Often, these labels are similar to what was used to tag the Brown Corpus.\n",
    "\n",
    "> **Note:** It is generally considered good practice to train your tagger by exposing it to well-annotated language of a similar variety. For reasons of scope, however, training taggers and parsers is not covered in these sessions."
   ]
  },
  {
   "cell_type": "code",
   "execution_count": null,
   "metadata": {
    "collapsed": false
   },
   "outputs": [],
   "source": [
    "books[1][1][9793:9968]"
   ]
  },
  {
   "cell_type": "code",
   "execution_count": null,
   "metadata": {
    "collapsed": false
   },
   "outputs": [],
   "source": [
    "sent = books[1][1][9793:9968]\n",
    "text = nltk.word_tokenize(sent)\n",
    "tagged = nltk.pos_tag(text)\n",
    "print tagged"
   ]
  },
  {
   "cell_type": "markdown",
   "metadata": {},
   "source": [
    "We could use this to search text by part of speech:"
   ]
  },
  {
   "cell_type": "code",
   "execution_count": null,
   "metadata": {
    "collapsed": false
   },
   "outputs": [],
   "source": [
    "for word, tag in tagged:\n",
    "    if tag == 'NN':\n",
    "        print word"
   ]
  },
  {
   "cell_type": "markdown",
   "metadata": {},
   "source": [
    "And even do really complicated stuff if we want:"
   ]
  },
  {
   "cell_type": "code",
   "execution_count": null,
   "metadata": {
    "collapsed": false
   },
   "outputs": [],
   "source": [
    "for index, tup in enumerate(tagged):\n",
    "    if tup[1] == 'DT':\n",
    "        print tagged[index + 1][0] "
   ]
  },
  {
   "cell_type": "markdown",
   "metadata": {},
   "source": [
    "### Challenge!"
   ]
  },
  {
   "cell_type": "markdown",
   "metadata": {},
   "source": [
    "**Use three nested conditional statements to find a single word. Be creative!**"
   ]
  },
  {
   "cell_type": "markdown",
   "metadata": {},
   "source": [
    "## Getting your data into Python/NLTK"
   ]
  },
  {
   "cell_type": "markdown",
   "metadata": {},
   "source": [
    "### Scenario 1: You have some old books."
   ]
  },
  {
   "cell_type": "markdown",
   "metadata": {},
   "source": [
    "* Are they machine readable?\n",
    "* OCR options&mdash;institutional or DIY?\n",
    "* Structure them in a meaningful way&mdash;by author, by year, by language ... \n",
    "* Start querying!"
   ]
  },
  {
   "cell_type": "markdown",
   "metadata": {},
   "source": [
    "### Scenario 2: You're interested in an online community."
   ]
  },
  {
   "cell_type": "markdown",
   "metadata": {},
   "source": [
    "* Explore the site. Sign up for it, maybe.\n",
    "* Download it: *Wget*, *curl*, *crawlers, spiders* ...\n",
    "* Extract relevant data and metadata: Python's *Beautiful Soup* library.\n",
    "* **Structure your data!**\n",
    "* Annotate your data, save these annotations\n",
    "* Start querying!"
   ]
  },
  {
   "cell_type": "markdown",
   "metadata": {},
   "source": [
    "### Scenario 3: Something of interest breaks in the news"
   ]
  },
  {
   "cell_type": "markdown",
   "metadata": {},
   "source": [
    "* It will start being discussed all over the web.\n",
    "* You can use the Twitter API to harvest tweets containing a term or hashtag of interest.\n",
    "* You can get a list of RSS feeds and mine news articles\n",
    "* You can use something like *WebBootCat* to harvest search engine results and make a plain text corpus\n",
    "* Process these into a manageable form\n",
    "* Structure them\n",
    "* *Start querying!"
   ]
  },
  {
   "cell_type": "markdown",
   "metadata": {},
   "source": [
    "## Managing resources and results"
   ]
  },
  {
   "cell_type": "markdown",
   "metadata": {},
   "source": [
    "You generate huge amounts of code, data and findings. Often, it's hard to know what to do with it all. In this section, we'll provide some suggestions designed to keep your work:\n",
    "\n",
    "1. Reproducible\n",
    "2. Reusable\n",
    "3. Comprehensible"
   ]
  },
  {
   "cell_type": "markdown",
   "metadata": {},
   "source": [
    "### Your code"
   ]
  },
  {
   "cell_type": "markdown",
   "metadata": {},
   "source": [
    "1. Most importantly, **write comments on your code**. You **will** forget what bits of code are supposed to do. Using others' code is much easier if it's commented up. \n",
    "2. A related point is to name your variables meaningfully: *variablexxy* does not tell us much about what it will contain. *For image in images:*  is a very comprehensible line.\n",
    "3. Also, write docstrings for your functions. Help messages come in very handy for not only others, but yourself. Simply stating what\n",
    "2. **Version control**. When editing your code, you may sometimes break it. [Here](https://drclimate.wordpress.com/2012/11/16/version-control/)'s a write-up about version control from Damien Irving.\n",
    "3. **Share your code**. You are often doing novel things when you code, and sharing what you've done can save somebody else a lot of work. *GitHub* is free for open-source projects. GitHub provides version control, which is especially useful when you are working with a team."
   ]
  },
  {
   "cell_type": "markdown",
   "metadata": {},
   "source": [
    "#### Developing as a programmer"
   ]
  },
  {
   "cell_type": "markdown",
   "metadata": {},
   "source": [
    "We've only scratched the surface of Python, to be honest. In fact, we've only been treating Python as a programming language. Many of its users, however, see it as more than just a programming language: it is an ideology and culture, as well. \n",
    "\n",
    "You'll notice on Stack Overflow, people will remark that some solutions are more 'pythonic' than others. By this, they typically mean that the code is easy to read and broken into discrete functions. More broadly, *pythonic* refers to code that adheres to the *Zen of Python*:"
   ]
  },
  {
   "cell_type": "code",
   "execution_count": null,
   "metadata": {
    "collapsed": false
   },
   "outputs": [],
   "source": [
    "import this"
   ]
  },
  {
   "cell_type": "markdown",
   "metadata": {},
   "source": [
    "So, as you explore Python more and more, you learn not only new ways to get tasks done, but also what ways are better to others. While at first you'll be content with making code that works, you'll later want to make sure your code is elegant as well. Fixing up your old code becomes a form of procrastination from thesis writing. Luckily, of all the kinds of procrastination, it's one of the better kinds.\n",
    "\n",
    "Another change you might notice is a switch toward *defensive programming*, where you write code to handle potential errors, and to provide useful messages when people do something wrong. This is a really awesome thing to do.\n",
    "\n",
    "Some code authors also try to use *test-driven development*. From [the wikipedia article](http://en.wikipedia.org/wiki/Test-driven_development):\n",
    "\n",
    "> First the developer writes an (initially failing) automated test case that defines a desired improvement or new function, then produces the minimum amount of code to pass that test, and finally refactors the new code to acceptable standards.\n",
    "\n",
    "This helps stop feature-creep, builds your confidence, and encourages the division of long code into well-defined functions.\n",
    "\n",
    "Oh, and you'll probably start dreaming in code. *Not* a joke."
   ]
  },
  {
   "cell_type": "markdown",
   "metadata": {},
   "source": [
    "### Your data"
   ]
  },
  {
   "cell_type": "markdown",
   "metadata": {},
   "source": [
    "It should now be clear to you that you have data!\n",
    "Think about how you structure it. Without necessarily becoming an archivist, do think about your metadata. It will help you to manage your data later.\n",
    "*Cloud computing* offers you access to more storage and compute-power than you might want to own. Plus you're unlikely to spill coffee on it."
   ]
  },
  {
   "cell_type": "markdown",
   "metadata": {},
   "source": [
    "### Your findings"
   ]
  },
  {
   "cell_type": "markdown",
   "metadata": {},
   "source": [
    "[*Figshare*](http://www.figshare.com) is a site for storing tables and figures. It's particularly useful for working with large datasets, as we often generate far more raw tables and statistics than we can possibly publish.\n",
    "\n",
    "It's becoming more and more common to link journal publications to additional online resources such as GitHub code or Figshares. It's also more and more common to cite GitHub and Figshare&mdash;always nice to bump up your citation count!"
   ]
  },
  {
   "cell_type": "markdown",
   "metadata": {},
   "source": [
    "## Other uses of NLTK"
   ]
  },
  {
   "cell_type": "markdown",
   "metadata": {},
   "source": [
    "What other things might we use NLTK for? A few examples, and possible workflows."
   ]
  },
  {
   "cell_type": "markdown",
   "metadata": {},
   "source": [
    "## Integrating IPython into your workflow"
   ]
  },
  {
   "cell_type": "markdown",
   "metadata": {},
   "source": [
    "What you've learned here isn't much good unless you can pull things out of it and put them into your own research workflow.\n",
    "\n",
    "It's important to remember that IPython code may be a little different from vanilla Python, as it can contain Magics, shell commands, and the like.\n",
    "\n",
    "Perhaps the coolest thing about programming is you are simultaneously researching and developing. The functions that you write can be uploaded to the web and used by others who encounter the problem that necessitated your writing the function in the first place.\n",
    "\n",
    "In reality, NLTK is nothing more than a lot of Python functions, coupled with some datasets (corpora, stopword lists, etc.). You can even visit NLTK on GitHub, fork their repository, and start playing around with the code! If you find bugs in the code, or if you think documentation is lacking, you can either write directly to the people who maintain the code, or fix the problem yourself and request that they review your fix and integrate it into NLTK."
   ]
  },
  {
   "cell_type": "markdown",
   "metadata": {},
   "source": [
    "### Using IPython locally"
   ]
  },
  {
   "cell_type": "markdown",
   "metadata": {},
   "source": [
    "We've done everything on the cloud so far, and it's been pretty good to us. You may also want to use IPython locally. To do this, you need to install it. There are many ways to install it, and these vary depending on your OS and what you already have installed. See the [IPython website](http://ipython.org/ipython-doc/2/install/install.html#installnotebook) for detailed instructions.\n",
    "\n",
    "> *[Anaconda](http://continuum.io/downloads)* is a large package of Python-based tools (including IPython and Matplotlib) that is easy to install. \n",
    "\n",
    "Once you have IPython installed, it's very easy to start using it. All you need to do is open up Terminal, navigate to the notebook directory and type:\n",
    "\n",
    "     ipython notebook filename.ipynb\n",
    "\n",
    "This will open up a blank notebook, exactly the same as the kind of notebook we've been using on the cloud. The only difference will be that if you enter:\n",
    "\n",
    "     os.listdir('.')\n",
    "\n",
    "you'll get a list of files in the directory of your notebook file, rather than a directory of your part of the cloud."
   ]
  },
  {
   "cell_type": "markdown",
   "metadata": {},
   "source": [
    "## Next steps - keep going!"
   ]
  },
  {
   "cell_type": "code",
   "execution_count": null,
   "metadata": {
    "collapsed": false
   },
   "outputs": [],
   "source": [
    "Image(url='http://starecat.com/content/wp-content/uploads/two-states-of-every-programmer-i-am-god-i-have-no-idea-what-im-doing.jpg')"
   ]
  },
  {
   "cell_type": "markdown",
   "metadata": {},
   "source": [
    "We hope you've learned enough in these two days to be excited about what NLTK can add to your work and you're feeling confident to start working on your own.\n",
    "Code breaks. Often. Be patient and try not to get discouraged.\n",
    "The good thing about code breaking so often is that you can find help. Try:\n",
    "* Coming back to these notebooks and refreshing your memory\n",
    "* Checking the NLTK book\n",
    "* Googling your error messages. This will often lead you to Stack Overflow, the major online community for sharing coding questions.\n",
    "* NLTK also has a Google group where people share their experiences and ask for help\n",
    "* Keep in touch! Your community is a wonderful resource."
   ]
  },
  {
   "cell_type": "markdown",
   "metadata": {},
   "source": [
    "## Summaries and goodbye"
   ]
  },
  {
   "cell_type": "markdown",
   "metadata": {},
   "source": [
    "Before we go, we should summarise what we've learned. Add all this to your CV!\n",
    "\n",
    "* Navigating the IPython notebook\n",
    "* Python commands - defining a variable; building a function\n",
    "* Using Python to perform basic quantitative analysis of text\n",
    "* Tagging and parsing to perform more sophisticated analysis of language\n",
    "* A crash course in corpus linguistics!\n",
    "* An appreciation of clean vs messy data and data structure\n",
    "* Data management practices"
   ]
  },
  {
   "cell_type": "markdown",
   "metadata": {},
   "source": [
    "## Bragging rights "
   ]
  },
  {
   "cell_type": "markdown",
   "metadata": {},
   "source": [
    "The work you have been doing today on the Fraser corpus is actually pretty cutting edge. Very little analysis like this has been undertaken on an Australian political corpus.\n",
    "\n",
    "You have produced publishable work today. Really. Be proud. And if you feel like writing up your findings, do it!"
   ]
  },
  {
   "cell_type": "markdown",
   "metadata": {},
   "source": [
    "## Thanks!"
   ]
  },
  {
   "cell_type": "markdown",
   "metadata": {},
   "source": [
    "That's the end of of course. Thank you to everybody for your participation.\n",
    "\n",
    "Please let us know how you found the course.\n",
    "\n",
    "Also, [submit a pull request](https://github.com/resbaz/lessons) and improve our teaching materials! "
   ]
  },
  {
   "cell_type": "markdown",
   "metadata": {},
   "source": [
    "## Bibliography"
   ]
  },
  {
   "cell_type": "markdown",
   "metadata": {},
   "source": [
    "<a id=\"ref:chomsky\"></a>\n",
    "Chomsky, N. (1965). Aspects of the Theory of Syntax (Vol. 11). The MIT press.\n",
    "\n",
    "Eggins, S. (2004). Introduction to systemic functional linguistics. Continuum International Publishing Group.\n",
    "\n",
    "Halliday, M., & Matthiessen, C. (2004). An Introduction to Functional Grammar. Routledge.\n",
    "\n",
    "<a id=\"ref:sinclair\"></a>\n",
    "Sinclair, J. (2004). Trust the text: Language, corpus and discourse. Routledge. Available at\n",
    "[http://books.google.com.au/books/about/Trust_the_Text.html?id=n6xU2lyVoeQC&redir_esc=y](http://books.google.com.au/books/about/Trust_the_Text.html?id=n6xU2lyVoeQC&redir_esc=y)."
   ]
  },
  {
   "cell_type": "markdown",
   "metadata": {},
   "source": [
    "### Workspace"
   ]
  },
  {
   "cell_type": "markdown",
   "metadata": {},
   "source": [
    "Here are a few blank cells, in case you need them for anything:"
   ]
  },
  {
   "cell_type": "code",
   "execution_count": null,
   "metadata": {
    "collapsed": false
   },
   "outputs": [],
   "source": [
    "# "
   ]
  },
  {
   "cell_type": "code",
   "execution_count": null,
   "metadata": {
    "collapsed": false
   },
   "outputs": [],
   "source": [
    "#"
   ]
  },
  {
   "cell_type": "code",
   "execution_count": null,
   "metadata": {
    "collapsed": false
   },
   "outputs": [],
   "source": [
    "#"
   ]
  },
  {
   "cell_type": "code",
   "execution_count": null,
   "metadata": {
    "collapsed": false
   },
   "outputs": [],
   "source": [
    "#"
   ]
  },
  {
   "cell_type": "code",
   "execution_count": null,
   "metadata": {
    "collapsed": false
   },
   "outputs": [],
   "source": [
    "#"
   ]
  },
  {
   "cell_type": "code",
   "execution_count": null,
   "metadata": {
    "collapsed": false
   },
   "outputs": [],
   "source": [
    "#"
   ]
  },
  {
   "cell_type": "code",
   "execution_count": null,
   "metadata": {
    "collapsed": false
   },
   "outputs": [],
   "source": [
    "#"
   ]
  },
  {
   "cell_type": "code",
   "execution_count": null,
   "metadata": {
    "collapsed": false
   },
   "outputs": [],
   "source": [
    "#"
   ]
  },
  {
   "cell_type": "code",
   "execution_count": null,
   "metadata": {
    "collapsed": false
   },
   "outputs": [],
   "source": [
    "#"
   ]
  },
  {
   "cell_type": "code",
   "execution_count": null,
   "metadata": {
    "collapsed": false
   },
   "outputs": [],
   "source": [
    "#"
   ]
  },
  {
   "cell_type": "code",
   "execution_count": null,
   "metadata": {
    "collapsed": false
   },
   "outputs": [],
   "source": [
    "# "
   ]
  }
 ],
 "metadata": {},
 "nbformat": 4,
 "nbformat_minor": 0
}