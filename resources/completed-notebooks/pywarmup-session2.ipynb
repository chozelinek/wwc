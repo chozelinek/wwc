{
 "cells": [
  {
   "cell_type": "markdown",
   "metadata": {},
   "source": [
    "Warming Up to Python\n",
    "====\n",
    "\n",
    "*\"To warm up, pythons find sunny places and adopt positions that maximise their exposure\"* - [Wikipedia](https://en.wikipedia.org/wiki/Ectotherm#Adaptations)\n",
    "\n",
    "To follow up on our [first warm up session](https://github.com/interrogator/wwc/blob/master/resources/completed-notebooks/pywarmup-session1.md), we will go through some pythonic container types that are pretty neat.\n",
    "\n",
    "So let's fire up the https://try.jupyter.org/ notebook and let's go...\n",
    "\n",
    "\n",
    "Build up on Built-ins\n",
    "====\n",
    "\n",
    "Python comes with *\"batteries included\"*, we have introduced some [built-in](https://docs.python.org/2/library/functions.html) functions that in the previous warm-up session:"
   ]
  },
  {
   "cell_type": "code",
   "execution_count": null,
   "metadata": {},
   "outputs": [],
   "source": [
    "list1 = [6,1,2,7,3,4,2,6,3]\n",
    "print(list1) # Prints the variable *list1* to the console\n",
    "len(list1)   # Get the length/size of the variable *list1*\n",
    "set(list1)   # Creates a set with the variable *list1*\n",
    "type(list1)  # Shows the type for the variable *list1*"
   ]
  },
  {
   "cell_type": "markdown",
   "metadata": {},
   "source": [
    "Here's a few more built-ins that one would commonly use when interacting with a list of numbers:"
   ]
  },
  {
   "cell_type": "code",
   "execution_count": null,
   "metadata": {},
   "outputs": [],
   "source": [
    "list1 = [6,1,2,7,3,4,2,6,3]\n",
    "max(list1)\n",
    "min(list1)\n",
    "sum(list1)\n",
    "sorted(list1)"
   ]
  },
  {
   "cell_type": "markdown",
   "metadata": {},
   "source": [
    "Once again, we see that the function naming in python is intuitive and without even looking at the outputs of the built-in functions above, we know what the function does. *\"Explicit is better than implicit\"* - [The Zen of Python](https://www.python.org/dev/peps/pep-0020/).\n",
    "\n",
    "**But how many built-ins are there in python?** 76 , see https://docs.python.org/2/library/functions.html\n",
    "\n",
    "We'll see more of them in the later sessions\n",
    "\n",
    "Comprehending List with List Comprehension\n",
    "====\n",
    "\n",
    "Given a list we learn how to use a `for` loop to iterate through the elements inside the list one by one, e.g."
   ]
  },
  {
   "cell_type": "code",
   "execution_count": null,
   "metadata": {},
   "outputs": [],
   "source": [
    "list1 = [6,1,2,7,3,4,2,6,3]\n",
    "for num in list1:\n",
    "    if num < 5:\n",
    "        print(num)"
   ]
  },
  {
   "cell_type": "markdown",
   "metadata": {},
   "source": [
    "And to extend a list we can do this:"
   ]
  },
  {
   "cell_type": "code",
   "execution_count": null,
   "metadata": {},
   "outputs": [],
   "source": [
    "list1 = [6,1,2,7,3,4,2,6,3]\n",
    "new_num = 100\n",
    "list1.append(new_num)\n",
    "print(list1)"
   ]
  },
  {
   "cell_type": "markdown",
   "metadata": {},
   "source": [
    "The append function adds the new number at the end of the list. To insert an element into a specified position into a list:"
   ]
  },
  {
   "cell_type": "code",
   "execution_count": null,
   "metadata": {},
   "outputs": [],
   "source": [
    "list1 = [6,1,2,7,3,4,2,6,3]\n",
    "new_num = 100\n",
    "# Adds to *new_num* to the 6th element in the list\n",
    "list1.insert(5, new_num) # Note that in a list indexing it goes from 0, 1, 2, 3, ..."
   ]
  },
  {
   "cell_type": "markdown",
   "metadata": {},
   "source": [
    "So naturally to add an element to the start of the list (aka. prepend), we do:"
   ]
  },
  {
   "cell_type": "code",
   "execution_count": null,
   "metadata": {},
   "outputs": [],
   "source": [
    "list1 = [6,1,2,7,3,4,2,6,3]\n",
    "new_num = 100\n",
    "list1.insert(0, new_num)"
   ]
  },
  {
   "cell_type": "markdown",
   "metadata": {},
   "source": [
    "Going back to the first `for` loop example where we print out the elements when it's smaller than 5. If we want to keep track of these numbers lower than 5, we can keep all these element in a new list:"
   ]
  },
  {
   "cell_type": "code",
   "execution_count": null,
   "metadata": {},
   "outputs": [],
   "source": [
    "list_lower_than_5 = []\n",
    "list1 = [6,1,2,7,3,4,2,6,3]\n",
    "for num in list1:\n",
    "    if num < 5:\n",
    "        list_lower_than_5.append(num)\n",
    "print (list_lower_than_5)"
   ]
  },
  {
   "cell_type": "markdown",
   "metadata": {},
   "source": [
    "But instead of doing it in the 4-5 lines, we can simply use [**list comprehension**](https://docs.python.org/2/tutorial/datastructures.html#list-comprehensions) to achieve the same filtered list."
   ]
  },
  {
   "cell_type": "code",
   "execution_count": null,
   "metadata": {},
   "outputs": [],
   "source": [
    "list1 = [6,1,2,7,3,4,2,6,3]\n",
    "list_lower_than_5 = [num for num in list1 if num < 5]\n",
    "print (list_lower_than_5)"
   ]
  },
  {
   "cell_type": "markdown",
   "metadata": {},
   "source": [
    "Dear Dictionary \n",
    "====\n",
    "\n",
    "Dictionary is a data type in python like the list it is a \"**container**\" data type. There are four basic container data types in python, `list`, `set`, `dict` and `tuple`. Instead having one item in each slot for the container, a dictionary has a key-value pair for each slot in the container.\n",
    "\n",
    "Let's try to count word occurence in a sentence."
   ]
  },
  {
   "cell_type": "code",
   "execution_count": null,
   "metadata": {},
   "outputs": [],
   "source": [
    "sent = 'the quick brown fox jumps over the lazy dog'.split()\n",
    "word_counter = {} # the curly brackets is how you would initialize a dict.\n",
    "word_counter['the'] = sent.count(the) # Add to the dict a key-value pair (the word 'the' and its count)\n",
    "word_counter"
   ]
  },
  {
   "cell_type": "markdown",
   "metadata": {},
   "source": [
    "Now let's iterate through the sentence and add each word and their counts to the `word_counter`:"
   ]
  },
  {
   "cell_type": "code",
   "execution_count": null,
   "metadata": {},
   "outputs": [],
   "source": [
    "sent = 'the quick brown fox jumps over the lazy dog'.split()\n",
    "word_counter = {}\n",
    "for word in sent:\n",
    "    word_counter[word] = sent.count(word)\n",
    "word_counter"
   ]
  },
  {
   "cell_type": "markdown",
   "metadata": {},
   "source": [
    "Now after that you can easily retrieve the word count by accessing the `word_counter` dictionary using the word key and get the count (i.e. the value):"
   ]
  },
  {
   "cell_type": "code",
   "execution_count": null,
   "metadata": {},
   "outputs": [],
   "source": [
    "num_the = word_counter['the'] # Use square brackets to access the dictionary using the key.\n",
    "print (word_counter['the'])  \n",
    "print (word_counter['jump'])"
   ]
  },
  {
   "cell_type": "markdown",
   "metadata": {},
   "source": [
    "Similar to `list`, you can also set the values of a dictionary using comprehension, the following [**dictionary comprehension**](https://www.python.org/dev/peps/pep-0274/) achieves the same result as the for-loop we have above:"
   ]
  },
  {
   "cell_type": "code",
   "execution_count": null,
   "metadata": {},
   "outputs": [],
   "source": [
    "sent = 'the quick brown fox jumps over the lazy dog'.split()\n",
    "word_counter = {word:sent.count(word) for word in sent}"
   ]
  },
  {
   "cell_type": "markdown",
   "metadata": {},
   "source": [
    "Note that the use of the colon when initializing a dictionary with `key:value` (e.g. `'the': 2` ). You can also initialize a dictionary manually (aka statically) like how we would initialize a list:"
   ]
  },
  {
   "cell_type": "code",
   "execution_count": null,
   "metadata": {},
   "outputs": [],
   "source": [
    "list1 = [1, 2, 3, 4, 5]\n",
    "dict1 = {'the': 2, 'quick':1 , 'brown': 1}"
   ]
  },
  {
   "cell_type": "markdown",
   "metadata": {},
   "source": [
    "And other than the basic data container, you can use specialized data containers that can make your code looks cleaner and also use some of the nifty \"batteries included\" features. Instead of counting the words like we did using a dictionary comprehension, there is a specialized data container call [`collections.Counter`](https://docs.python.org/2/library/collections.html#collections.Counter). And to initlize the same `word_counter`, we can simply do this:"
   ]
  },
  {
   "cell_type": "code",
   "execution_count": null,
   "metadata": {},
   "outputs": [],
   "source": [
    "from collections import Counter\n",
    "sent = 'the quick brown fox jumps over the lazy dog'.split()\n",
    "word_counter = Counter(sent)\n",
    "word_counter"
   ]
  },
  {
   "cell_type": "markdown",
   "metadata": {},
   "source": [
    "Tuple-ware\n",
    "====\n",
    "\n",
    "Unlike the other basic data container types, `tuple` is a special breed. In other contains, it is possible to append a new item to a list, add to a set and expand a dictionary, e.g."
   ]
  },
  {
   "cell_type": "code",
   "execution_count": null,
   "metadata": {},
   "outputs": [],
   "source": [
    "list1 = [6,1,2,7,3,4,2,6,3]\n",
    "new_num = 100\n",
    "list1.append(new_num) # Appends an element to a list.\n",
    "set1 = set(list1)\n",
    "set1.add(new_num) # Adds a new unique element to a set.\n",
    "\n",
    "dict1 = {'the': 2, 'brown': 1, 'fox':1}\n",
    "dict1['jumps'] = 1 # Extends a dictionary with a new key-value pair."
   ]
  },
  {
   "cell_type": "markdown",
   "metadata": {},
   "source": [
    "That ability to change the values in the data type is call **`mutuable`**. Unlike `list`, `set` and `dict`, `tuple` is an **`immutable`**"
   ]
  },
  {
   "cell_type": "code",
   "execution_count": null,
   "metadata": {},
   "outputs": [],
   "source": [
    "list1 = [6,1,2,7,3,4,2,6,3]\n",
    "tup1 = tuple(list1)\n",
    "print (type(tup1))\n",
    "tup1.add(100) # This will return an error.\n",
    "tup1.append(100) # This will also return an error."
   ]
  },
  {
   "cell_type": "markdown",
   "metadata": {},
   "source": [
    "When trying to add/append to a tuple, you will see this error:"
   ]
  },
  {
   "cell_type": "code",
   "execution_count": null,
   "metadata": {},
   "outputs": [],
   "source": [
    ">>> tup1.add(100)\n",
    "Traceback (most recent call last):\n",
    "  File \"<stdin>\", line 1, in <module>\n",
    "AttributeError: 'tuple' object has no attribute 'add'\n",
    "\n",
    ">>> tup1.append(100)\n",
    "Traceback (most recent call last):\n",
    "  File \"<stdin>\", line 1, in <module>\n",
    "AttributeError: 'tuple' object has no attribute 'add'"
   ]
  },
  {
   "cell_type": "markdown",
   "metadata": {},
   "source": [
    "The only two functions that a `tuple` type has is (i) to find the first instance of a particular item, e.g.:"
   ]
  },
  {
   "cell_type": "code",
   "execution_count": null,
   "metadata": {},
   "outputs": [],
   "source": [
    "list1 = [6,1,2,7,3,4,2,6,3]\n",
    "tup1 = tuple(list1)\n",
    "tup1.index(3)"
   ]
  },
  {
   "cell_type": "markdown",
   "metadata": {},
   "source": [
    "and the other function (ii) to count the number of instances of a particular item, e.g.:"
   ]
  },
  {
   "cell_type": "code",
   "execution_count": null,
   "metadata": {},
   "outputs": [],
   "source": [
    "list1 = [6,1,2,7,3,4,2,6,3]\n",
    "tup1 = tuple(list1)\n",
    "tup1.count(3)"
   ]
  },
  {
   "cell_type": "markdown",
   "metadata": {},
   "source": [
    "**So why do we need tuples when we can easily use a list?** See http://stackoverflow.com/a/1708538/610569. TL;DR cos iterating through a tuple is faster than a list.\n",
    "\n",
    "----\n",
    "\n",
    "Congratulations !!!\n",
    "====\n",
    "\n",
    "You have learnt more about built-ins and the various basic container types in python!"
   ]
  }
 ],
 "metadata": {},
 "nbformat": 4,
 "nbformat_minor": 0
}
