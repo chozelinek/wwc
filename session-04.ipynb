{
 "cells": [
  {
   "cell_type": "markdown",
   "metadata": {},
   "source": [
    "# Regular expressions\n",
    "\n",
    "This session goes into detail about the syntax and use-cases for regular expressions, both for searching text and working with data files and directories.\n",
    "\n",
    "## Introduction to the syntax\n",
    "\n",
    "Let's practice in [a richer environment](https://regex101.com/#python) to start with. **Turn on the 'global' flag.**\n",
    "\n",
    "As a sample text, we can use [The Love Song of J. Alfred Prufrock](http://www.bartleby.com/198/1.html), by T. S. Eliot, or perhaps [a recent open letter](http://english.khamenei.ir/news/2681/Today-terrorism-is-our-common-worry) from Sayyid Ali Khamenei to the \"youth of the West\".\n",
    "\n",
    "Then, using [Python's regex documentation](https://docs.python.org/2/library/re.html) as reference material, try to get:\n",
    "\n",
    "1. The first word of every line\n",
    "2. The last word of every line\n",
    "3. The last word of every line, if it starts with 's'\n",
    "4. Question marks\n",
    "5. Interrogatives\n",
    "6. Words beginning with capital letter that aren't line-initial\n",
    "7. All punctuation\n",
    "8. Plural nouns\n",
    "9. Text within quotation marks/brackets\n",
    "10. Hyphenates\n",
    "\n",
    "\n",
    "## The `re` module\n",
    "\n",
    "We need to import regular expression functionality before we can do anything else:"
   ]
  },
  {
   "cell_type": "code",
   "execution_count": null,
   "metadata": {
    "collapsed": true
   },
   "outputs": [],
   "source": []
  },
  {
   "cell_type": "code",
   "execution_count": null,
   "metadata": {
    "collapsed": true
   },
   "outputs": [],
   "source": []
  },
  {
   "cell_type": "code",
   "execution_count": null,
   "metadata": {
    "collapsed": true
   },
   "outputs": [],
   "source": []
  },
  {
   "cell_type": "code",
   "execution_count": null,
   "metadata": {
    "collapsed": true
   },
   "outputs": [],
   "source": []
  },
  {
   "cell_type": "code",
   "execution_count": null,
   "metadata": {
    "collapsed": true
   },
   "outputs": [],
   "source": []
  },
  {
   "cell_type": "markdown",
   "metadata": {},
   "source": [
    "## Resources around the web\n",
    "\n",
    "### Checkers\n",
    "\n",
    "* [regexr](http://regexr.com/)\n",
    "* [regextester](http://www.regextester.com/)\n",
    "\n",
    "### Cheatsheets\n",
    "\n",
    "* [https://www.debuggex.com/cheatsheet/regex/python](https://www.debuggex.com/cheatsheet/regex/python)\n",
    "* [pyregex](http://www.pyregex.com/)\n",
    "\n",
    "### Crosswords\n",
    "\n",
    "* [regexcrossword](https://regexcrossword.com/)"
   ]
  }
 ],
 "metadata": {
  "kernelspec": {
   "display_name": "Python 2",
   "language": "python",
   "name": "python2"
  },
  "language_info": {
   "codemirror_mode": {
    "name": "ipython",
    "version": 2
   },
   "file_extension": ".py",
   "mimetype": "text/x-python",
   "name": "python",
   "nbconvert_exporter": "python",
   "pygments_lexer": "ipython2",
   "version": "2.7.10"
  }
 },
 "nbformat": 4,
 "nbformat_minor": 0
}
